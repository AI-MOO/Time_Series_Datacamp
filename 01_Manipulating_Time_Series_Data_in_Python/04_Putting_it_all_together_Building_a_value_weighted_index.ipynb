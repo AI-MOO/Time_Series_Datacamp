{
 "cells": [
  {
   "attachments": {},
   "cell_type": "markdown",
   "metadata": {},
   "source": [
    "### `Putting it all together: Building a value-weighted index`\n",
    "#### `01:Explore and clean company listing information`\n",
    "To get started with the construction of a market-value based index, you'll work with the combined listing info for the three largest US stock exchanges, the NYSE, the NASDAQ and the AMEX.\n",
    "\n",
    "In this and the next exercise, you will calculate market-cap weights for these stocks.\n",
    "\n",
    "We have already imported pandas as pd, and loaded the listings data set with listings information from the NYSE, NASDAQ, and AMEX. The column 'Market Capitalization' is already measured in USD mn.\n",
    "\n",
    "\n",
    "- Inspect `listings` using `.info()`.\n",
    "- Move the column `'Stock Symbol'` into the index (`inplace`).\n",
    "- Drop all companies with missing `'Sector'` information from `listings`.\n",
    "- Select companies with IPO Year before 2019.\n",
    "- Inspect the result of the changes you just made using `.info()`.\n",
    "- Show the number of companies per `'Sector'` using `.groupby()` and `.size()`. Sort the output in descending order."
   ]
  },
  {
   "cell_type": "code",
   "execution_count": null,
   "metadata": {},
   "outputs": [],
   "source": [
    "import pandas as pd"
   ]
  },
  {
   "cell_type": "code",
   "execution_count": null,
   "metadata": {},
   "outputs": [],
   "source": [
    "listings = pd.read_excel('datasets/listings_agg.xlsx',  sheet_name=0, index_col=0)\n",
    "listings"
   ]
  },
  {
   "cell_type": "code",
   "execution_count": null,
   "metadata": {},
   "outputs": [],
   "source": [
    "# Inspect listings\n",
    "print(listings.info())\n",
    "\n",
    "# Move 'stock symbol' into the index\n",
    "listings.set_index('Stock Symbol', inplace=True)\n",
    "\n",
    "# Drop rows with missing 'sector' data\n",
    "listings.dropna(subset=['Sector'], inplace=True)\n",
    "\n",
    "\n",
    "# Select companies with IPO Year before 2019\n",
    "listings = listings[listings[\"IPO Year\"] < 2019]\n",
    "\n",
    "# Inspect the new listings data\n",
    "print(listings.info())\n",
    "\n",
    "# Show the number of companies per sector\n",
    "print(listings.groupby('Sector').size().sort_values(ascending=False))\n"
   ]
  },
  {
   "cell_type": "code",
   "execution_count": null,
   "metadata": {},
   "outputs": [],
   "source": [
    "listings.groupby('Sector').size().sort_values(ascending=False)"
   ]
  },
  {
   "attachments": {},
   "cell_type": "markdown",
   "metadata": {},
   "source": [
    "#### `02: Select and inspect index components`\n",
    "\n",
    "Now that you have imported and cleaned the listings data, you can proceed to select the index components as the largest company for each sector by market capitalization.\n",
    "\n",
    "You'll also have the opportunity to take a closer look at the components, their last market value, and last price.\n",
    "\n",
    "\n",
    "We have already imported `pandas` as `pd`, and loaded the `listings` data with the modifications you made during the last exercise.\n",
    "\n",
    "- Use `.groupby()` and `.nlargest()` to select the largest company by `'Market Capitalization'` for each `'Sector'`, and assign the result to `components`.\n",
    "- Print `components`, sorted in descending order by market cap.\n",
    "- Select `Stock Symbol` from the `index` of `components`, assign it to `tickers` and print the result.\n",
    "- Create a list `info_cols` that holds the column names `Company Name`, `Market Capitalization`, and `Last Sale`. Next, use `.loc[]` with `tickers` and `info_cols` to `print()` more details about the listings sorted in descending order by `Market Capitalization`)"
   ]
  },
  {
   "cell_type": "code",
   "execution_count": null,
   "metadata": {},
   "outputs": [],
   "source": [
    "listings = pd.read_csv('datasets/listings_1.csv',index_col=0)\n",
    "listings"
   ]
  },
  {
   "cell_type": "code",
   "execution_count": null,
   "metadata": {},
   "outputs": [],
   "source": [
    "# Select largest company for each sector\n",
    "components = listings.groupby(['Sector'])['Market Capitalization'].nlargest(1)\n",
    "\n",
    "# Print components, sorted by market cap\n",
    "print(components.sort_values(ascending=False))\n",
    "\n",
    "# Select stock symbols and print the result\n",
    "tickers = components.index.get_level_values('Stock Symbol')\n",
    "print(tickers)\n",
    "\n",
    "# Print company name, market cap, and last price for each component \n",
    "info_cols = ['Company Name', 'Market Capitalization', 'Last Sale']\n",
    "print(listings.loc[tickers, info_cols].sort_values('Market Capitalization', ascending=False))"
   ]
  },
  {
   "attachments": {},
   "cell_type": "markdown",
   "metadata": {},
   "source": [
    "#### `03: Import index component price information`\n",
    "Now you'll use the stock symbols for the companies you selected in the last exercise to calculate returns for each company.\n",
    "\n",
    "We have already imported `pandas` as `pd` and `matplotlib.pyplot` as `plt` for you. We have also made the variable `tickers` available to you, which contains the `Stock Symbol` for each index component as a `list`.\n",
    "\n",
    "- Print `tickers` to verify the content matches your result from the last exercise.\n",
    "  \n",
    "- Use `pd.read_csv()` to import `'stock_prices.csv'`, parsing the `'Date'` column and also setting the `'Date'` column as index before assigning the -\n",
    "  \n",
    "- result to `stock_prices`. Inspect the result using `.info()`.\n",
    "\n",
    "- Calculate the price return for the index components by dividing the last row of `stock_prices` by the first, subtracting 1 and multiplying by 100. Assign the result to `price_return`.\n",
    "\n",
    "- Plot a horizontal bar chart of the sorted returns with the title `Stock Price Returns`."
   ]
  },
  {
   "cell_type": "code",
   "execution_count": null,
   "metadata": {},
   "outputs": [],
   "source": [
    "import matplotlib.pyplot as plt \n",
    "tickers = ['RIO', 'ILMN', 'CPRT', 'EL', 'AMZN', 'PAA', 'GS', 'AMGN', 'MA', 'TEF', 'AAPL', 'UPS']\n",
    "\n",
    "# Print tickers\n",
    "print(tickers)\n",
    "\n",
    "# Import prices and inspect result\n",
    "stock_prices = pd.read_csv('datasets/stock_prices.csv', parse_dates=['Date'], index_col='Date')\n",
    "print(stock_prices.info())\n",
    "\n",
    "# Calculate the returns\n",
    "price_return = stock_prices.iloc[-1].div(stock_prices.iloc[0]).sub(1).mul(100)\n",
    "\n",
    "# Plot horizontal bar chart of sorted price_return   \n",
    "price_return.sort_values().plot(kind='barh', title='Stock Price Returns')\n",
    "plt.title('Stock Price Returns')\n",
    "plt.show()\n",
    "\n"
   ]
  },
  {
   "attachments": {},
   "cell_type": "markdown",
   "metadata": {},
   "source": [
    "#### `04: Calculate number of shares outstanding`\n",
    "The next step towards building a value-weighted index is to calculate the number of shares for each index component.\n",
    "\n",
    "The number of shares will allow you to calculate the total market capitalization for each component given the historical price series in the next exercise.\n",
    "\n",
    "We have already imported `pandas` as `pd`, `tickers` and `listings` as in the previous exercises.\n",
    "\n",
    "- Inspect `listings` and print `tickers`.\n",
    "- Use `.loc[]` with the list of `tickers` to select the index components and the columns `'Market Capitalization'` and `'Last Sale'`; assign this to `components`.\n",
    "- Print the first five rows of components.\n",
    "- Create `no_shares` by dividing `Market Capitalization` by `'Last Sale'`.\n",
    "- Print `no_shares` in descending order."
   ]
  },
  {
   "cell_type": "code",
   "execution_count": null,
   "metadata": {},
   "outputs": [],
   "source": [
    "# Inspect listings and print tickers\n",
    "print(listings.info())\n",
    "print(tickers)\n",
    "\n",
    "# Select components and relevant columns from listings\n",
    "components = listings.loc[tickers,['Market Capitalization','Last Sale']]\n",
    "\n",
    "# Print the first rows of components\n",
    "print(components.head())\n",
    "\n",
    "# Calculate the number of shares here\n",
    "no_shares = components['Market Capitalization'].div(components['Last Sale'])\n",
    "\n",
    "# Print the sorted no_shares\n",
    "print(no_shares.sort_values(ascending=False))"
   ]
  },
  {
   "attachments": {},
   "cell_type": "markdown",
   "metadata": {},
   "source": [
    "#### `05: Create time series of market value`\n",
    "You can now use the number of shares to calculate the total market capitalization for each component and trading date from the historical price series.\n",
    "\n",
    "The result will be the key input to construct the value-weighted stock index, which you will complete in the next exercise.\n",
    "\n",
    "\n",
    "We have already imported `pandas` as `pd` and `matplotlib.pyplot` as `plt` for you. We have also created the variables `components` and `stock_prices` that you worked with in the last exercises.\n",
    "\n",
    "- Select the `'Number of Shares'` from `components`, assign to `no_shares`, and print the result, sorted in the default (ascending) order.\n",
    "- Multiply `stock_prices` by no_shares to create a time series of market cap per ticker, and assign it to market_cap.\n",
    "- Select the first and the last row of `market_cap` and assign these to `first_value` and `last_value`.\n",
    "- Use `pd.concat()` to concatenate `first_value` and `last_value` along `axis=1` and plot the result as horizontal bar chart."
   ]
  },
  {
   "cell_type": "code",
   "execution_count": null,
   "metadata": {},
   "outputs": [],
   "source": [
    "# Select the number of shares\n",
    "components['Number of Shares'] = [1808.718, 146.300, 459.390, 366.406, 477.171, 723.405, 397.817, 735.890,  1108.884, 5037.805, 5246.540, 869.297]\n",
    "\n",
    "no_shares = components['Number of Shares']\n",
    "print(no_shares.sort_values(ascending=True))\n",
    "\n",
    "# Create the series of market cap per ticker\n",
    "market_cap = stock_prices * no_shares\n",
    "\n",
    "# Select first and last market cap here\n",
    "first_value = market_cap.iloc[0,:]\n",
    "last_value = market_cap.iloc[-1]\n",
    "\n",
    "\n",
    "# Concatenate and plot first and last market cap here\n",
    "pd.concat([first_value, last_value], axis=1).plot(kind='barh')\n",
    "plt.show()\n",
    "\n"
   ]
  },
  {
   "attachments": {},
   "cell_type": "markdown",
   "metadata": {},
   "source": [
    "Calculate & plot the composite index\n",
    "By now you have all ingredients that you need to calculate the aggregate stock performance for your group of companies.\n",
    "\n",
    "Use the time series of market capitalization that you created in the last exercise to aggregate the market value for each period, and then normalize this series to convert it to an index.\n",
    "\n",
    "We have already imported `pandas` as `pd` and `matplotlib.pyplot` as `plt` for you. We have also loaded `components` and `market_cap_series`, which you worked with in the last exercise.\n",
    "\n",
    "- Aggregate the market cap per trading day by applying `.sum()` to `market_cap_series` with `axis=1`, assign to `raw_index` and `print` the result.\n",
    "- Normalize the aggregate market cap by dividing by the first value of `raw_index` and multiplying by 100. Assign this to `index` and `print` the result.\n",
    "- Plot the index with the title `'Market-Cap Weighted Index'`."
   ]
  },
  {
   "cell_type": "code",
   "execution_count": null,
   "metadata": {},
   "outputs": [],
   "source": [
    "market_cap_series = market_cap \n",
    "raw_index = market_cap_series.sum(axis=1)\n",
    "print(raw_index)"
   ]
  },
  {
   "cell_type": "code",
   "execution_count": null,
   "metadata": {},
   "outputs": [],
   "source": [
    "import pandas as pd\n",
    "\n",
    "# create a sample dataframe\n",
    "df = pd.DataFrame({\n",
    "    'A': [1, 2, 3],\n",
    "    'B': [4, 5, 6],\n",
    "    'C': [7, 8, 9]\n",
    "})\n",
    "\n",
    "# calculate row-wise sum of values\n",
    "row_sums = df.sum(axis=1)\n",
    "\n",
    "# print the row sums\n",
    "print(row_sums)"
   ]
  },
  {
   "cell_type": "code",
   "execution_count": null,
   "metadata": {},
   "outputs": [],
   "source": [
    "# Aggregate and print the market cap per trading day\n",
    "raw_index = market_cap_series.sum(axis=1)\n",
    "print(raw_index)\n",
    "\n",
    "# Normalize the aggregate market cap here \n",
    "index = raw_index.div(raw_index.iloc[0]).mul(100)\n",
    "print(index)\n",
    "\n",
    "# Plot the index here\n",
    "index.plot(title='Market-Cap Weighted Index')\n",
    "plt.show()\n"
   ]
  },
  {
   "attachments": {},
   "cell_type": "markdown",
   "metadata": {},
   "source": [
    "#### `06: Calculate the contribution of each stock to the index`\n",
    "You have successfully built the value-weighted index. Let's now explore how it performed over the 2010-2016 period.\n",
    "\n",
    "Let's also determine how much each stock has contributed to the index return.\n",
    "We have already imported pandas as pd and matplotlib.pyplot as plt for you. We have also loaded components and the index you worked with in the last exercise.\n",
    "\n",
    "- Divide the last `index` value by the first, subtract 1 and multiply by 100. Assign the result to `index_return` and print it.\n",
    "- Select the `'Market Capitalization'` column from `components`.\n",
    "- Calculate the total market cap for all components and assign this to `total_market_cap`.\n",
    "- Divide the components' market cap by `total_market_cap` to calculate the component weights, assign it to `weights`, and print `weights` with the values sorted in default (ascending) order.\n",
    "- Multiply `weights` by the `index_return` to calculate the contribution by component, sort the values in ascending order, and plot the result as a horizontal bar chart."
   ]
  },
  {
   "cell_type": "code",
   "execution_count": null,
   "metadata": {},
   "outputs": [],
   "source": [
    "# Calculate and print the index return here\n",
    "index_return = (index.iloc[-1] / index.iloc[0] - 1) * 100\n",
    "print(index_return)\n",
    "\n",
    "# Select the market capitalization\n",
    "market_cap = components['Market Capitalization']\n",
    "\n",
    "# Calculate the total market cap\n",
    "total_market_cap = market_cap.sum()\n",
    "\n",
    "# Calculate the component weights, and print the result\n",
    "weights = market_cap / total_market_cap\n",
    "print(weights.sort_values(ascending=True))\n",
    "\n",
    "# Calculate and plot the contribution by component\n",
    "weights.mul(index_return).sort_values().plot(kind='barh')\n",
    "plt.show()"
   ]
  },
  {
   "attachments": {},
   "cell_type": "markdown",
   "metadata": {},
   "source": [
    "#### `07: Compare index performance against benchmark` I\n",
    "The next step in analyzing the performance of your index is to compare it against a benchmark.\n",
    "\n",
    "In the video, we used the S&P 500 as benchmark. You can also use the Dow Jones Industrial Average, which contains the 30 largest stocks, and would also be a reasonable benchmark for the largest stocks from all sectors across the three exchanges.\n",
    "\n",
    "We have already imported `pandas` as `pd`, `matplotlib.pyplot` as `plt` for you. We have also loaded your `index` and the `DJIA` data into variables index and djia, respectively, both as a `pd.Series()`.\n",
    "\n",
    "- Convert `index` to a `pd.DataFrame` with the column name `'Index'` and assign the result to `data`.\n",
    "- Normalize `djia` to start at 100 and add it as new column to `data`.\n",
    "- Show the total return for both `index` and `djia` by dividing the last row of `data` by the first, subtracting 1 and multiplying by 100.\n",
    "- Show a plot of both of the series in `data`."
   ]
  },
  {
   "cell_type": "code",
   "execution_count": null,
   "metadata": {},
   "outputs": [],
   "source": [
    "djia = pd.read_csv('datasets/djia2.csv',index_col=0)\n",
    "djia = djia['DJIA']\n",
    "data = pd.DataFrame({'Index':index})\n"
   ]
  },
  {
   "cell_type": "code",
   "execution_count": null,
   "metadata": {},
   "outputs": [],
   "source": [
    "# Convert index series to dataframe here\n",
    "data = pd.DataFrame({'Index':index})\n",
    "\n",
    "\n",
    "# Normalize djia series and add as new column to data\n",
    "djia = djia.div(djia[0]).mul(100)\n",
    "data['DJIA'] = djia\n",
    "\n",
    "# Show total return for both index and djia\n",
    "print((data.iloc[-1] / data.iloc[0] -1 ) * 100)\n",
    "\n",
    "# Plot both series\n",
    "data.plot()\n",
    "plt.show()"
   ]
  },
  {
   "attachments": {},
   "cell_type": "markdown",
   "metadata": {},
   "source": [
    "#### `08: Compare index performance against benchmark II`\n",
    "The next step in analyzing the performance of your index is to compare it against a benchmark.\n",
    "\n",
    "In the video, we have use the S&P 500 as benchmark. You can also use the Dow Jones Industrial Average, which contains the 30 largest stocks, and would also be a reasonable benchmark for the largest stocks from all sectors across the three exchanges.\n",
    "\n",
    "We have already imported `numpy` as `np`, `pandas` as `pd`, `matplotlib.pyplot` as `plt` for you. We have also loaded your Index and the Dow Jones Industrial Average (normalized) in a variable called `data`.\n",
    "\n",
    "- Inspect `data` and print the first five rows.\n",
    "- Define a function `multi_period_return` that takes a `numpy` `array` of period returns as input, and returns the total return for the period. Use the formula from the video - add 1 to the input, pass the result to `np.prod()`, subtract 1 and multiply by 100.\n",
    "- Create a `.rolling()` window of length `'360D'` from `data`, and apply `multi_period_return`. Assign to `rolling_return_360`.\n",
    "- Plot `rolling_return_360` using the `title` `'Rolling 360D Return'`."
   ]
  },
  {
   "cell_type": "code",
   "execution_count": null,
   "metadata": {},
   "outputs": [],
   "source": [
    "data"
   ]
  },
  {
   "cell_type": "code",
   "execution_count": null,
   "metadata": {},
   "outputs": [],
   "source": [
    "import numpy as np \n",
    "# Inspect data\n",
    "print(data.info())\n",
    "print(data.head())\n",
    "\n",
    "# Create multi_period_return function here\n",
    "def multi_period_return(r):\n",
    "    return (np.prod(r + 1) - 1 ) * 100\n",
    "\n",
    "# Calculate rolling_return_360\n",
    "rolling_return_360 = data.pct_change().rolling('360D').apply(multi_period_return)\n",
    "\n",
    "# Plot rolling_return_360 here\n",
    "rolling_return_360.plot(title='Rolling 360D Return')\n",
    "plt.show()\n",
    "\n"
   ]
  },
  {
   "attachments": {},
   "cell_type": "markdown",
   "metadata": {},
   "source": [
    "#### `09: Compare index performance against benchmark II`\n",
    "\n",
    "To better understand the characteristics of your index constituents, you can calculate the return correlations.\n",
    "Use the daily stock prices or your index companies, and show a heatmap of the daily return correlations!\n",
    "\n",
    "We have already imported `pandas` as `pd`, `matplotlib.pyplot` as `plt`, and `seaborn` as `sns`. We have also loaded the historical price series of your index constituents into the variable `stock_prices`.\n",
    "\n",
    "- Inspect `stock_prices` using `.info()`.\n",
    "- Calculate the daily returns for `stock_prices` and assign the result to `returns`.\n",
    "- Calculate the pairwise correlations for `returns`, assign them to `correlations` and print the result.\n",
    "- Plot a `seaborn` annotated heatmap of the daily return correlations with the title `'Daily Return Correlations'`."
   ]
  },
  {
   "cell_type": "code",
   "execution_count": null,
   "metadata": {},
   "outputs": [],
   "source": [
    "import seaborn as sns\n",
    "stock_prices"
   ]
  },
  {
   "cell_type": "code",
   "execution_count": null,
   "metadata": {},
   "outputs": [],
   "source": [
    "# Inspect stock_prices here\n",
    "print(stock_prices.info())\n",
    "\n",
    "# Calculate the daily returns\n",
    "returns = stock_prices.pct_change()\n",
    "\n",
    "# Calculate and print the pairwise correlations\n",
    "correlations = returns.corr()\n",
    "print(correlations)\n",
    "\n",
    "# Plot a heatmap of daily return correlations\n",
    "sns.heatmap(correlations, annot=True) \n",
    "plt.xticks(rotation=45) \n",
    "plt.title('Daily Return Correlations') \n",
    "plt.show()\n",
    "\n"
   ]
  },
  {
   "attachments": {},
   "cell_type": "markdown",
   "metadata": {},
   "source": [
    "#### `10: Save your analysis to multiple excel worksheets`\n",
    "Now that you have completed your analysis, you may want to save all results into a single Excel workbook.\n",
    "\n",
    "Let's practice exporting various DataFrame to multiple Excel worksheets.\n",
    "\n",
    "We have already imported pandas as pd for you. We have also loaded both the historical price series of your index constituents into the variable stock_prices, and the index as index.\n",
    "\n",
    "- Inspect both `index` and `stock_prices` using `.info()`.\n",
    "- Use `.join()` to combine `index` with `stock_prices`, and assign to `data`.\n",
    "- Apply `.pct_change()` to `data` and assign to `returns`.\n",
    "- Create `pd.ExcelWriter` and use `with` to export `data` and `returns` to excel with `sheet_names` of the same name."
   ]
  },
  {
   "cell_type": "code",
   "execution_count": 73,
   "metadata": {},
   "outputs": [
    {
     "name": "stdout",
     "output_type": "stream",
     "text": [
      "<class 'pandas.core.frame.DataFrame'>\n",
      "DatetimeIndex: 1762 entries, 2010-01-04 to 2016-12-30\n",
      "Data columns (total 1 columns):\n",
      " #   Column  Non-Null Count  Dtype  \n",
      "---  ------  --------------  -----  \n",
      " 0   0       1762 non-null   float64\n",
      "dtypes: float64(1)\n",
      "memory usage: 27.5 KB\n",
      "None\n",
      "<class 'pandas.core.frame.DataFrame'>\n",
      "DatetimeIndex: 1762 entries, 2010-01-04 to 2016-12-30\n",
      "Data columns (total 12 columns):\n",
      " #   Column  Non-Null Count  Dtype  \n",
      "---  ------  --------------  -----  \n",
      " 0   AAPL    1761 non-null   float64\n",
      " 1   AMGN    1761 non-null   float64\n",
      " 2   AMZN    1761 non-null   float64\n",
      " 3   CPRT    1761 non-null   float64\n",
      " 4   EL      1762 non-null   float64\n",
      " 5   GS      1762 non-null   float64\n",
      " 6   ILMN    1761 non-null   float64\n",
      " 7   MA      1762 non-null   float64\n",
      " 8   PAA     1762 non-null   float64\n",
      " 9   RIO     1762 non-null   float64\n",
      " 10  TEF     1762 non-null   float64\n",
      " 11  UPS     1762 non-null   float64\n",
      "dtypes: float64(12)\n",
      "memory usage: 179.0 KB\n",
      "None\n",
      "<class 'pandas.core.frame.DataFrame'>\n",
      "DatetimeIndex: 1762 entries, 2010-01-04 to 2016-12-30\n",
      "Data columns (total 13 columns):\n",
      " #   Column  Non-Null Count  Dtype  \n",
      "---  ------  --------------  -----  \n",
      " 0   AAPL    1761 non-null   float64\n",
      " 1   AMGN    1761 non-null   float64\n",
      " 2   AMZN    1761 non-null   float64\n",
      " 3   CPRT    1761 non-null   float64\n",
      " 4   EL      1762 non-null   float64\n",
      " 5   GS      1762 non-null   float64\n",
      " 6   ILMN    1761 non-null   float64\n",
      " 7   MA      1762 non-null   float64\n",
      " 8   PAA     1762 non-null   float64\n",
      " 9   RIO     1762 non-null   float64\n",
      " 10  TEF     1762 non-null   float64\n",
      " 11  UPS     1762 non-null   float64\n",
      " 12  0       1762 non-null   float64\n",
      "dtypes: float64(13)\n",
      "memory usage: 192.7 KB\n",
      "None\n"
     ]
    }
   ],
   "source": [
    "# Inspect index and stock_prices\n",
    "import xlwt\n",
    "# index = index.to_frame()\n",
    "print(index.info())\n",
    "print(stock_prices.info())\n",
    " \n",
    "# Join index to stock_prices, and inspect the result\n",
    "data = stock_prices.join(index)\n",
    "print(data.info())\n",
    " \n",
    "# Create index & stock price returns\n",
    "returns = data.pct_change()\n",
    " \n",
    "# Export data and data as returns to excel\n",
    "with pd.ExcelWriter('data.xls') as writer:\n",
    "    data.to_excel(writer, sheet_name='data')\n",
    "    returns.to_excel(writer, sheet_name='returns')"
   ]
  },
  {
   "cell_type": "code",
   "execution_count": null,
   "metadata": {},
   "outputs": [],
   "source": []
  }
 ],
 "metadata": {
  "kernelspec": {
   "display_name": "Python 3",
   "language": "python",
   "name": "python3"
  },
  "language_info": {
   "codemirror_mode": {
    "name": "ipython",
    "version": 3
   },
   "file_extension": ".py",
   "mimetype": "text/x-python",
   "name": "python",
   "nbconvert_exporter": "python",
   "pygments_lexer": "ipython3",
   "version": "3.6.8"
  },
  "orig_nbformat": 4
 },
 "nbformat": 4,
 "nbformat_minor": 2
}
