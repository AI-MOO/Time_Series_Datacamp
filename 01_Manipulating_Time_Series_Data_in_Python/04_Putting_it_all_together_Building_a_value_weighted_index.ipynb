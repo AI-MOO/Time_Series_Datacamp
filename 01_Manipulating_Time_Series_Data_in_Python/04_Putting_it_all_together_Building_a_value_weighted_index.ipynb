{
 "cells": [
  {
   "attachments": {},
   "cell_type": "markdown",
   "metadata": {},
   "source": [
    "### `Putting it all together: Building a value-weighted index`\n",
    "#### `01:Explore and clean company listing information`\n",
    "To get started with the construction of a market-value based index, you'll work with the combined listing info for the three largest US stock exchanges, the NYSE, the NASDAQ and the AMEX.\n",
    "\n",
    "In this and the next exercise, you will calculate market-cap weights for these stocks.\n",
    "\n",
    "We have already imported pandas as pd, and loaded the listings data set with listings information from the NYSE, NASDAQ, and AMEX. The column 'Market Capitalization' is already measured in USD mn.\n",
    "\n",
    "\n",
    "- Inspect `listings` using `.info()`.\n",
    "- Move the column `'Stock Symbol'` into the index (`inplace`).\n",
    "- Drop all companies with missing `'Sector'` information from `listings`.\n",
    "- Select companies with IPO Year before 2019.\n",
    "- Inspect the result of the changes you just made using `.info()`.\n",
    "- Show the number of companies per `'Sector'` using `.groupby()` and `.size()`. Sort the output in descending order."
   ]
  },
  {
   "cell_type": "markdown",
   "metadata": {},
   "source": []
  }
 ],
 "metadata": {
  "language_info": {
   "name": "python"
  },
  "orig_nbformat": 4
 },
 "nbformat": 4,
 "nbformat_minor": 2
}
