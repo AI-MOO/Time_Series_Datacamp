{
 "cells": [
  {
   "attachments": {},
   "cell_type": "markdown",
   "metadata": {},
   "source": [
    "### Time Series Analysis in Python | Time Series Analysis in Python\n",
    "\n",
    "#### `01: Taxing Exercise: Compute the ACF`\n",
    "In the last chapter, you computed autocorrelations with one lag. Often we are interested in seeing the autocorrelation over many lags. The quarterly earnings for H&R Block (ticker symbol HRB) is plotted on the right, and you can see the extreme cyclicality of its earnings. A vast majority of its earnings occurs in the quarter that taxes are due.\n",
    "\n",
    "You will compute the array of autocorrelations for the H&R Block quarterly earnings that is pre-loaded in the DataFrame HRB. Then, plot the autocorrelation function using the plot_acf module. This plot shows what the autocorrelation function looks like for cyclical earnings data. The ACF at lag=0 is always one, of course. In the next exercise, you will learn about the confidence interval for the ACF, but for now, suppress the confidence interval by setting alpha=1.\n",
    "\n",
    "- Import the `acf` module and `plot_acf` module from statsmodels.\n",
    "- Compute the array of autocorrelations of the quarterly earnings data in DataFrame `HRB`.\n",
    "- Plot the autocorrelation function of the quarterly earnings data in `HRB`, and pass the argument `alpha=1` to suppress the confidence interval.\n"
   ]
  },
  {
   "cell_type": "code",
   "execution_count": 14,
   "metadata": {},
   "outputs": [
    {
     "data": {
      "text/html": [
       "<div>\n",
       "<style scoped>\n",
       "    .dataframe tbody tr th:only-of-type {\n",
       "        vertical-align: middle;\n",
       "    }\n",
       "\n",
       "    .dataframe tbody tr th {\n",
       "        vertical-align: top;\n",
       "    }\n",
       "\n",
       "    .dataframe thead th {\n",
       "        text-align: right;\n",
       "    }\n",
       "</style>\n",
       "<table border=\"1\" class=\"dataframe\">\n",
       "  <thead>\n",
       "    <tr style=\"text-align: right;\">\n",
       "      <th></th>\n",
       "      <th>Earnings</th>\n",
       "    </tr>\n",
       "    <tr>\n",
       "      <th>Quarter</th>\n",
       "      <th></th>\n",
       "    </tr>\n",
       "  </thead>\n",
       "  <tbody>\n",
       "    <tr>\n",
       "      <th>2007-01-01</th>\n",
       "      <td>-0.36</td>\n",
       "    </tr>\n",
       "    <tr>\n",
       "      <th>2007-04-01</th>\n",
       "      <td>-0.38</td>\n",
       "    </tr>\n",
       "    <tr>\n",
       "      <th>2007-07-01</th>\n",
       "      <td>0.07</td>\n",
       "    </tr>\n",
       "    <tr>\n",
       "      <th>2007-10-01</th>\n",
       "      <td>1.85</td>\n",
       "    </tr>\n",
       "    <tr>\n",
       "      <th>2008-01-01</th>\n",
       "      <td>-0.34</td>\n",
       "    </tr>\n",
       "  </tbody>\n",
       "</table>\n",
       "</div>"
      ],
      "text/plain": [
       "            Earnings\n",
       "Quarter             \n",
       "2007-01-01     -0.36\n",
       "2007-04-01     -0.38\n",
       "2007-07-01      0.07\n",
       "2007-10-01      1.85\n",
       "2008-01-01     -0.34"
      ]
     },
     "execution_count": 14,
     "metadata": {},
     "output_type": "execute_result"
    }
   ],
   "source": [
    "import pandas as pd\n",
    "import numpy as np \n",
    "import matplotlib.pyplot as plt \n",
    "\n",
    "HRB = pd.read_csv(\"datasets/HRB_Dates.csv\", index_col=0)\n",
    "HRB.index = pd.to_datetime(HRB.index)\n",
    "HRB.head()"
   ]
  },
  {
   "cell_type": "code",
   "execution_count": 23,
   "metadata": {},
   "outputs": [
    {
     "data": {
      "text/plain": [
       "[0, 1, 2, 3, 4, 5, 6, 7, 8, 9, 10, 11, 12, 13, 14, 15, 16, 17, 18, 19]"
      ]
     },
     "execution_count": 23,
     "metadata": {},
     "output_type": "execute_result"
    }
   ],
   "source": [
    "list(range(0,20))"
   ]
  },
  {
   "cell_type": "code",
   "execution_count": 25,
   "metadata": {},
   "outputs": [
    {
     "name": "stdout",
     "output_type": "stream",
     "text": [
      "[ 1.         -0.22122696 -0.39856504 -0.26615093  0.83479804 -0.1901038\n",
      " -0.3475634  -0.23140368  0.71995993 -0.15661007 -0.29766783 -0.22097189\n",
      "  0.61656933 -0.15022869 -0.27922022 -0.22465946  0.5725259  -0.08758288\n",
      " -0.24075584 -0.20363054  0.4797058  -0.06091139 -0.20935484 -0.18303202\n",
      "  0.42481275 -0.03352559 -0.17471087 -0.16384328  0.34341079 -0.01734364\n",
      " -0.13820811 -0.12232172  0.28407164 -0.01927656 -0.11757974 -0.10386933\n",
      "  0.20156485 -0.0120634  -0.07509539 -0.0707104   0.10222029]\n"
     ]
    },
    {
     "name": "stderr",
     "output_type": "stream",
     "text": [
      "c:\\Users\\MOHAMAD\\AppData\\Local\\Programs\\Python\\Python36\\lib\\site-packages\\statsmodels\\tsa\\stattools.py:662: FutureWarning: The default number of lags is changing from 40 tomin(int(10 * np.log10(nobs)), nobs - 1) after 0.12is released. Set the number of lags to an integer to  silence this warning.\n",
      "  FutureWarning,\n",
      "c:\\Users\\MOHAMAD\\AppData\\Local\\Programs\\Python\\Python36\\lib\\site-packages\\statsmodels\\tsa\\stattools.py:671: FutureWarning: fft=True will become the default after the release of the 0.12 release of statsmodels. To suppress this warning, explicitly set fft=False.\n",
      "  FutureWarning,\n"
     ]
    },
    {
     "data": {
      "image/png": "[encoded data removed]",
      "text/plain": [
       "<Figure size 432x288 with 1 Axes>"
      ]
     },
     "metadata": {
      "needs_background": "light"
     },
     "output_type": "display_data"
    }
   ],
   "source": [
    "# Import the acf module and the plot_acf module from statsmodels\n",
    "from statsmodels.tsa.stattools import acf\n",
    "from statsmodels.graphics.tsaplots import plot_acf\n",
    "\n",
    "# Compute the acf array of HRB\n",
    "acf_array = acf(HRB)\n",
    "print(acf_array)\n",
    "\n",
    "# Plot the acf function\n",
    "plot_acf(HRB,alpha=1, lags = list(range(0,21)))\n",
    "plt.show()"
   ]
  },
  {
   "attachments": {},
   "cell_type": "markdown",
   "metadata": {},
   "source": [
    "Notice the strong positive autocorrelation at lags `4, 8, 12, 16, 20,` ...\n",
    "\n"
   ]
  },
  {
   "attachments": {},
   "cell_type": "markdown",
   "metadata": {},
   "source": [
    "#### `02:Are We Confident This Stock is Mean Reverting?`\n",
    "In the last chapter, you saw that the autocorrelation of MSFT's weekly stock returns was -0.16. That autocorrelation seems large, but is it statistically significant? In other words, can you say that there is less than a 5% chance that we would observe such a large negative autocorrelation if the true autocorrelation were really zero? And are there any autocorrelations at other lags that are significantly different from zero?\n",
    "\n",
    "Even if the true autocorrelations were zero at all lags, in a finite sample of returns you won't see the estimate of the autocorrelations exactly zero. In fact, the standard deviation of the sample autocorrelation is \n",
    " where \n",
    " is the number of observations, so if \n",
    ", for example, the standard deviation of the ACF is 0.1, and since 95% of a normal curve is between +1.96 and -1.96 standard deviations from the mean, the 95% confidence interval is \n",
    ". This approximation only holds when the true autocorrelations are all zero.\n",
    "\n",
    "You will compute the actual and approximate confidence interval for the ACF, and compare it to the lag-one autocorrelation of -0.16 from the last chapter. The weekly returns of Microsoft is pre-loaded in a DataFrame called returns.\n",
    "\n",
    "\n",
    "- Recompute the autocorrelation of weekly returns in the Series `'Adj Close'` in the `returns` DataFrame.\n",
    "- Find the number of observations in the returns DataFrame using the `len()` function.\n",
    "  - Approximate the 95% confidence interval of the estimated autocorrelation. The math function `sqrt()` has been imported and can be used.\n",
    "- Plot the autocorrelation function of `returns` using `plot_acf` that was imported from statsmodels. Set `alpha=0.05` for the confidence intervals (that's the default) and `lags=20`."
   ]
  },
  {
   "cell_type": "code",
   "execution_count": 27,
   "metadata": {},
   "outputs": [
    {
     "name": "stdout",
     "output_type": "stream",
     "text": [
      "The autocorrelation of weekly MSFT returns is -0.16\n",
      "The approximate confidence interval is +/- 0.12\n"
     ]
    },
    {
     "data": {
      "image/png": "[encoded data removed]",
      "text/plain": [
       "<Figure size 432x288 with 1 Axes>"
      ]
     },
     "metadata": {
      "needs_background": "light"
     },
     "output_type": "display_data"
    }
   ],
   "source": [
    "# Import the plot_acf module from statsmodels and sqrt from math\n",
    "from statsmodels.graphics.tsaplots import plot_acf\n",
    "from math import sqrt\n",
    "returns = pd.read_csv(\"datasets/returns.csv\", index_col=0)\n",
    "returns.index = pd.to_datetime(returns.index)\n",
    "\n",
    "# Compute and print the autocorrelation of MSFT weekly returns\n",
    "autocorrelation = returns['Adj Close'].autocorr()\n",
    "print(\"The autocorrelation of weekly MSFT returns is %4.2f\" %(autocorrelation))\n",
    "\n",
    "# Find the number of observations by taking the length of the returns DataFrame\n",
    "nobs = len(returns)\n",
    "\n",
    "# Compute the approximate confidence interval\n",
    "conf = 1.96/sqrt(nobs)\n",
    "print(\"The approximate confidence interval is +/- %4.2f\" %(conf))\n",
    "\n",
    "# Plot the autocorrelation function with 95% confidence intervals and 20 lags using plot_acf\n",
    "plot_acf(returns, alpha=0.05, lags=20)\n",
    "plt.show()"
   ]
  },
  {
   "attachments": {},
   "cell_type": "markdown",
   "metadata": {},
   "source": [
    "Notice that the autocorrelation with lag 1 is significantly negative, but none of the other lags are significantly different from zero.\n",
    "\n"
   ]
  },
  {
   "attachments": {},
   "cell_type": "markdown",
   "metadata": {},
   "source": [
    "#### `03:Can't Forecast White Noise`\n",
    "A white noise time series is simply a sequence of uncorrelated random variables that are identically distributed. Stock returns are often modeled as white noise. Unfortunately, for white noise, we cannot forecast future observations based on the past - autocorrelations at all lags are zero.\n",
    "\n",
    "You will generate a white noise series and plot the autocorrelation function to show that it is zero for all lags. You can use np.random.normal() to generate random returns. For a Gaussian white noise process, the mean and standard deviation describe the entire process.\n",
    "\n",
    "Plot this white noise series to see what it looks like, and then plot the autocorrelation function.\n",
    "\n",
    "- Generate 1000 random normal returns using `np.random.normal()` with mean 2% (0.02) and standard deviation 5% (0.05), where the argument for the mean is - `loc` and the argument for the standard deviation is `scale`.\n",
    "- Verify the mean and standard deviation of returns using `np.mean()` and `np.std()`.\n",
    "- Plot the time series.\n",
    "- Plot the autocorrelation function using `plot_acf` with `lags=20`."
   ]
  },
  {
   "cell_type": "code",
   "execution_count": 28,
   "metadata": {},
   "outputs": [
    {
     "name": "stdout",
     "output_type": "stream",
     "text": [
      "The mean is 0.021 and the standard deviation is 0.052\n"
     ]
    },
    {
     "data": {
      "image/png": "[encoded data removed]",
      "text/plain": [
       "<Figure size 432x288 with 1 Axes>"
      ]
     },
     "metadata": {
      "needs_background": "light"
     },
     "output_type": "display_data"
    },
    {
     "data": {
      "image/png": "[encoded data removed]",
      "text/plain": [
       "<Figure size 432x288 with 1 Axes>"
      ]
     },
     "metadata": {
      "needs_background": "light"
     },
     "output_type": "display_data"
    }
   ],
   "source": [
    "# Import the plot_acf module from statsmodels\n",
    "from statsmodels.graphics.tsaplots import plot_acf\n",
    "\n",
    "# Simulate white noise returns\n",
    "returns = np.random.normal(loc=0.02, scale=0.05, size=1000)\n",
    "\n",
    "# Print out the mean and standard deviation of returns\n",
    "mean = np.mean(returns)\n",
    "std = np.std(returns)\n",
    "print(\"The mean is %5.3f and the standard deviation is %5.3f\" %(mean,std))\n",
    "\n",
    "# Plot returns series\n",
    "plt.plot(returns)\n",
    "plt.show()\n",
    "\n",
    "# Plot autocorrelation function of white noise returns\n",
    "plot_acf(returns, lags=20)\n",
    "plt.show()"
   ]
  },
  {
   "attachments": {},
   "cell_type": "markdown",
   "metadata": {},
   "source": [
    "- Notice that for a white noise time series, all the `autocorrelations are close to zero`, so the past will not help you forecast the future."
   ]
  },
  {
   "attachments": {},
   "cell_type": "markdown",
   "metadata": {},
   "source": [
    "#### `04: Generate a Random Walk`\n",
    "Whereas stock returns are often modeled as white noise, stock prices closely follow a random walk. In other words, today's price is yesterday's price plus some random noise.\n",
    "\n",
    "You will simulate the price of a stock over time that has a starting price of 100 and every day goes up or down by a random amount. Then, plot the simulated stock price. If you hit the \"Run Code\" code button multiple times, you'll see several realizations.\n",
    "\n",
    "- Generate 500 random normal \"steps\" with mean=0 and standard deviation=1 using `np.random.normal()`, where the argument for the mean is `loc` and the argument for the standard deviation is `scale`.\n",
    "- Simulate stock prices `P`:\n",
    "    - Cumulate the random `steps` using the numpy `.cumsum()` method\n",
    "    - Add 100 to `P` to get a starting stock price of 100.\n",
    "- Plot the simulated random walk"
   ]
  },
  {
   "cell_type": "code",
   "execution_count": 29,
   "metadata": {},
   "outputs": [
    {
     "data": {
      "image/png": "[encoded data removed]",
      "text/plain": [
       "<Figure size 432x288 with 1 Axes>"
      ]
     },
     "metadata": {
      "needs_background": "light"
     },
     "output_type": "display_data"
    }
   ],
   "source": [
    "# Generate 500 random steps with mean=0 and standard deviation=1\n",
    "steps = np.random.normal(loc=0, scale=1, size=500)\n",
    "\n",
    "# Set first element to 0 so that the first price will be the starting stock price\n",
    "steps[0]=0\n",
    "\n",
    "# Simulate stock prices, P with a starting price of 100\n",
    "P = 100 + np.cumsum(steps)\n",
    "\n",
    "# Plot the simulated stock prices\n",
    "plt.plot(P)\n",
    "plt.title(\"Simulated Random Walk\")\n",
    "plt.show()"
   ]
  },
  {
   "attachments": {},
   "cell_type": "markdown",
   "metadata": {},
   "source": [
    "- The simulated price series you plotted should closely resemble a random walk."
   ]
  },
  {
   "attachments": {},
   "cell_type": "markdown",
   "metadata": {},
   "source": [
    "#### `05: Get the Drift`\n",
    "In the last exercise, you simulated stock prices that follow a random walk. You will extend this in two ways in this exercise.\n",
    "\n",
    "You will look at a random walk with a drift. Many time series, like stock prices, are random walks but tend to drift up over time.\n",
    "In the last exercise, the noise in the random walk was additive: random, normal changes in price were added to the last price. However, when adding noise, you could theoretically get negative prices. Now you will make the noise multiplicative: you will add one to the random, normal changes to get a total return, and multiply that by the last price.\n",
    "\n",
    "- Generate 500 random normal multiplicative \"steps\" with mean 0.1% and standard deviation 1% using `np.random.normal()`, which are now returns, and add one for total return.\n",
    "- Simulate stock prices `P`:\n",
    "    - Cumulate the product of the steps using the numpy `.cumprod()` method.\n",
    "    - Multiply the cumulative product of total returns by 100 to get a starting value of 100.\n",
    "- Plot the simulated random walk with drift."
   ]
  },
  {
   "cell_type": "code",
   "execution_count": 34,
   "metadata": {},
   "outputs": [
    {
     "data": {
      "image/png": "[encoded data removed]",
      "text/plain": [
       "<Figure size 432x288 with 1 Axes>"
      ]
     },
     "metadata": {
      "needs_background": "light"
     },
     "output_type": "display_data"
    }
   ],
   "source": [
    "# Generate 500 random steps\n",
    "steps = np.random.normal(loc=0.001, scale=0.01, size=500) + 1\n",
    "\n",
    "# Set first element to 1\n",
    "steps[0]=1\n",
    "\n",
    "# Simulate the stock price, P, by taking the cumulative product\n",
    "P = 100 * np.cumprod(steps)\n",
    "\n",
    "# Plot the simulated stock prices\n",
    "plt.plot(P)\n",
    "plt.title(\"Simulated Random Walk with Drift\")\n",
    "plt.show()"
   ]
  },
  {
   "attachments": {},
   "cell_type": "markdown",
   "metadata": {},
   "source": [
    "- This simulated price series you plotted should closely resemble a random walk for a high flying stock.\n",
    "\n"
   ]
  },
  {
   "attachments": {},
   "cell_type": "markdown",
   "metadata": {},
   "source": [
    "#### `06: Are Stock Prices a Random Walk?`\n",
    "Most stock prices follow a random walk (perhaps with a drift). You will look at a time series of Amazon stock prices, pre-loaded in the DataFrame AMZN, and run the 'Augmented Dickey-Fuller Test' from the statsmodels library to show that it does indeed follow a random walk.\n",
    "\n",
    "With the ADF test, the \"null hypothesis\" (the hypothesis that we either reject or fail to reject) is that the series follows a random walk. Therefore, a low p-value (say less than 5%) means we can reject the null hypothesis that the series is a random walk\n",
    "\n",
    "- Import the `adfuller` module from statsmodels.\n",
    "- Run the Augmented Dickey-Fuller test on the series of closing stock prices, which is the column `'Adj Close'` in the `AMZN` DataFrame.\n",
    "- Print out the entire output, which includes the test statistic, the p-values, and the critical values for tests with 1%, 10%, and 5% levels.\n",
    "- Print out just the p-value of the test (`results[0]` is the test statistic, and `results[1]` is the p-value).\n",
    "  "
   ]
  },
  {
   "cell_type": "code",
   "execution_count": 35,
   "metadata": {},
   "outputs": [
    {
     "data": {
      "text/html": [
       "<div>\n",
       "<style scoped>\n",
       "    .dataframe tbody tr th:only-of-type {\n",
       "        vertical-align: middle;\n",
       "    }\n",
       "\n",
       "    .dataframe tbody tr th {\n",
       "        vertical-align: top;\n",
       "    }\n",
       "\n",
       "    .dataframe thead th {\n",
       "        text-align: right;\n",
       "    }\n",
       "</style>\n",
       "<table border=\"1\" class=\"dataframe\">\n",
       "  <thead>\n",
       "    <tr style=\"text-align: right;\">\n",
       "      <th></th>\n",
       "      <th>Adj Close</th>\n",
       "    </tr>\n",
       "    <tr>\n",
       "      <th>Date</th>\n",
       "      <th></th>\n",
       "    </tr>\n",
       "  </thead>\n",
       "  <tbody>\n",
       "    <tr>\n",
       "      <th>1997-05-15</th>\n",
       "      <td>1.958333</td>\n",
       "    </tr>\n",
       "    <tr>\n",
       "      <th>1997-05-16</th>\n",
       "      <td>1.729167</td>\n",
       "    </tr>\n",
       "    <tr>\n",
       "      <th>1997-05-19</th>\n",
       "      <td>1.708333</td>\n",
       "    </tr>\n",
       "    <tr>\n",
       "      <th>1997-05-20</th>\n",
       "      <td>1.635417</td>\n",
       "    </tr>\n",
       "    <tr>\n",
       "      <th>1997-05-21</th>\n",
       "      <td>1.427083</td>\n",
       "    </tr>\n",
       "    <tr>\n",
       "      <th>...</th>\n",
       "      <td>...</td>\n",
       "    </tr>\n",
       "    <tr>\n",
       "      <th>2017-07-27</th>\n",
       "      <td>1046.000000</td>\n",
       "    </tr>\n",
       "    <tr>\n",
       "      <th>2017-07-28</th>\n",
       "      <td>1020.039978</td>\n",
       "    </tr>\n",
       "    <tr>\n",
       "      <th>2017-07-31</th>\n",
       "      <td>987.780029</td>\n",
       "    </tr>\n",
       "    <tr>\n",
       "      <th>2017-08-01</th>\n",
       "      <td>996.190002</td>\n",
       "    </tr>\n",
       "    <tr>\n",
       "      <th>2017-08-02</th>\n",
       "      <td>995.890015</td>\n",
       "    </tr>\n",
       "  </tbody>\n",
       "</table>\n",
       "<p>5088 rows × 1 columns</p>\n",
       "</div>"
      ],
      "text/plain": [
       "              Adj Close\n",
       "Date                   \n",
       "1997-05-15     1.958333\n",
       "1997-05-16     1.729167\n",
       "1997-05-19     1.708333\n",
       "1997-05-20     1.635417\n",
       "1997-05-21     1.427083\n",
       "...                 ...\n",
       "2017-07-27  1046.000000\n",
       "2017-07-28  1020.039978\n",
       "2017-07-31   987.780029\n",
       "2017-08-01   996.190002\n",
       "2017-08-02   995.890015\n",
       "\n",
       "[5088 rows x 1 columns]"
      ]
     },
     "execution_count": 35,
     "metadata": {},
     "output_type": "execute_result"
    }
   ],
   "source": [
    "AMZN = pd.read_csv(\"datasets/AMZN.csv\", index_col=0)\n",
    "AMZN.index = pd.to_datetime(AMZN.index)\n",
    "AMZN"
   ]
  },
  {
   "cell_type": "code",
   "execution_count": 36,
   "metadata": {},
   "outputs": [
    {
     "name": "stdout",
     "output_type": "stream",
     "text": [
      "(4.025168525770744, 1.0, 33, 5054, {'1%': -3.4316445438146865, '5%': -2.862112049726916, '10%': -2.5670745025321304}, 30308.64216426981)\n",
      "The p-value of the test on prices is: 1.0\n"
     ]
    }
   ],
   "source": [
    "# Import the adfuller module from statsmodels\n",
    "from statsmodels.tsa.stattools import adfuller\n",
    "\n",
    "# Run the ADF test on the price series and print out the results\n",
    "results = adfuller(AMZN['Adj Close'])\n",
    "print(results)\n",
    "\n",
    "# Just print out the p-value\n",
    "print('The p-value of the test on prices is: ' + str(results[1]))"
   ]
  },
  {
   "attachments": {},
   "cell_type": "markdown",
   "metadata": {},
   "source": [
    "#### `07: How About Stock Returns?`\n",
    "In the last exercise, you showed that Amazon stock prices, contained in the DataFrame AMZN follow a random walk. In this exercise. you will do the same thing for Amazon returns (percent change in prices) and show that the returns do not follow a random walk.\n",
    "\n",
    "- Import the `adfuller` module from statsmodels.\n",
    "- Create a new DataFrame of AMZN returns by taking the percent change of prices using the method `.pct_change()`.\n",
    "- Eliminate the NaN in the first row of returns using the `.dropna() `method on the DataFrame.\n",
    "- Run the Augmented Dickey-Fuller test on the `'Adj Close'` column of AMZN_ret, and print out the p-value in `results[1]`."
   ]
  },
  {
   "cell_type": "code",
   "execution_count": 37,
   "metadata": {},
   "outputs": [
    {
     "name": "stdout",
     "output_type": "stream",
     "text": [
      "The p-value of the test on returns is: 2.565589808348712e-22\n"
     ]
    }
   ],
   "source": [
    "# Import the adfuller module from statsmodels\n",
    "from statsmodels.tsa.stattools import adfuller\n",
    "\n",
    "# Create a DataFrame of AMZN returns\n",
    "AMZN_ret = AMZN.pct_change()\n",
    "\n",
    "# Eliminate the NaN in the first row of returns\n",
    "AMZN_ret = AMZN_ret.dropna()\n",
    "\n",
    "# Run the ADF test on the return series and print out the p-value\n",
    "results = adfuller(AMZN_ret['Adj Close'])\n",
    "print('The p-value of the test on returns is: ' + str(results[1]))"
   ]
  },
  {
   "attachments": {},
   "cell_type": "markdown",
   "metadata": {},
   "source": [
    "- The p-value is extremely small, so we can easily reject the hypothesis that returns are a random walk at all levels of significance."
   ]
  },
  {
   "attachments": {},
   "cell_type": "markdown",
   "metadata": {},
   "source": [
    "Is it Stationary?\n",
    "Here are four time series plots:\n",
    "\n",
    "![image](https://s3.amazonaws.com/assets.datacamp.com/production/course_4267/datasets/MultChoice_Ch2.png)\n",
    "\n",
    "\n",
    "Which one is stationary?\n",
    "- `A` : Well done! This is white noise, which is stationary.\n",
    "- B\n",
    "- C\n",
    "- D"
   ]
  },
  {
   "attachments": {},
   "cell_type": "markdown",
   "metadata": {},
   "source": [
    "#### `08: Seasonal Adjustment During Tax Season`\n",
    "Many time series exhibit strong seasonal behavior. The procedure for removing the seasonal component of a time series is called seasonal adjustment. For example, most economic data published by the government is seasonally adjusted.\n",
    "\n",
    "You saw earlier that by taking first differences of a random walk, you get a stationary white noise process. For seasonal adjustments, instead of taking first differences, you will take differences with a lag corresponding to the periodicity.\n",
    "\n",
    "Look again at the ACF of H&R Block's quarterly earnings, pre-loaded in the DataFrame HRB, and there is a clear seasonal component. The autocorrelation is high for lags 4,8,12,16,… because of the spike in earnings every four quarters during tax season. Apply a seasonal adjustment by taking the fourth difference (four represents the periodicity of the series). Then compute the autocorrelation of the transformed series."
   ]
  },
  {
   "attachments": {},
   "cell_type": "markdown",
   "metadata": {},
   "source": [
    "- Create a new DataFrame of seasonally adjusted earnings by taking the lag-4 difference of quarterly earnings using the `.diff()` method.\n",
    "- Examine the first 10 rows of the seasonally adjusted DataFrame and notice that the first four rows are `NaN`.\n",
    "- Drop the `NaN` rows using the `.dropna()` method.\n",
    "- Plot the autocorrelation function of the seasonally adjusted DataFrame."
   ]
  },
  {
   "cell_type": "code",
   "execution_count": 38,
   "metadata": {},
   "outputs": [
    {
     "name": "stdout",
     "output_type": "stream",
     "text": [
      "         Earnings\n",
      "Quarter          \n",
      "2007Q1        NaN\n",
      "2007Q2        NaN\n",
      "2007Q3        NaN\n",
      "2007Q4        NaN\n",
      "2008Q1       0.02\n",
      "2008Q2      -0.04\n",
      "2008Q3      -0.05\n",
      "2008Q4       0.26\n",
      "2009Q1      -0.05\n",
      "2009Q2       0.02\n"
     ]
    },
    {
     "data": {
      "image/png": "[encoded data removed]",
      "text/plain": [
       "<Figure size 432x288 with 1 Axes>"
      ]
     },
     "metadata": {
      "needs_background": "light"
     },
     "output_type": "display_data"
    }
   ],
   "source": [
    "HRB = pd.read_csv(\"datasets/HRB.csv\", index_col=0)\n",
    "\n",
    "# Import the plot_acf module from statsmodels\n",
    "from statsmodels.graphics.tsaplots import plot_acf\n",
    "\n",
    "# Seasonally adjust quarterly earnings\n",
    "HRBsa = HRB.diff(4)\n",
    "\n",
    "# Print the first 10 rows of the seasonally adjusted series\n",
    "print(HRBsa.head(10))\n",
    "\n",
    "# Drop the NaN data in the first four rows\n",
    "HRBsa = HRBsa.dropna()\n",
    "\n",
    "# Plot the autocorrelation function of the seasonally adjusted series\n",
    "plot_acf(HRBsa)\n",
    "plt.show()"
   ]
  },
  {
   "attachments": {},
   "cell_type": "markdown",
   "metadata": {},
   "source": [
    "By seasonally adjusting the series, we eliminated the seasonal pattern in the autocorrelation function."
   ]
  }
 ],
 "metadata": {
  "kernelspec": {
   "display_name": "Python 3",
   "language": "python",
   "name": "python3"
  },
  "language_info": {
   "codemirror_mode": {
    "name": "ipython",
    "version": 3
   },
   "file_extension": ".py",
   "mimetype": "text/x-python",
   "name": "python",
   "nbconvert_exporter": "python",
   "pygments_lexer": "ipython3",
   "version": "3.6.8"
  },
  "orig_nbformat": 4
 },
 "nbformat": 4,
 "nbformat_minor": 2
}
