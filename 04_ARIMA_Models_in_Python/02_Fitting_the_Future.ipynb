{
 "cells": [
  {
   "attachments": {},
   "cell_type": "markdown",
   "metadata": {},
   "source": [
    "## `ARIMA Models in Python | Fitting the Future`\n"
   ]
  },
  {
   "attachments": {},
   "cell_type": "markdown",
   "metadata": {},
   "source": [
    "### `01: Fitting Prelude`\n",
    "Great, you understand model order! Understanding the order is important when it comes to fitting models. You will always need to select the order of model you fit to your data, no matter what that data is.\n",
    "\n",
    "In this exercise you will do some basic fitting. Fitting models is the next key step towards making predictions. We'll go into this more in the next chapter but let's get a head start.\n",
    "\n",
    "Some example ARMA(1,1) data have been created and are available in your environment as y. This data could represent the amount of traffic congestion. You could use forecasts of this to suggest the efficient routes for drivers.\n",
    "\n",
    "- Import the `ARIMA` model class from the `statsmodels.tsa.arima.model` submodule.\n",
    "- Create a model object, passing it the time series `y` and the model order `(1,0,1)`. Assign this to the variable `model`.\n",
    "- Use the model's `.fit()` method to fit to the data."
   ]
  },
  {
   "cell_type": "code",
   "execution_count": 2,
   "metadata": {},
   "outputs": [],
   "source": [
    "import numpy as np \n",
    "import pandas as pd \n",
    "import matplotlib.pyplot as plt "
   ]
  },
  {
   "cell_type": "code",
   "execution_count": 3,
   "metadata": {},
   "outputs": [],
   "source": [
    "y = np.loadtxt('datasets/y.txt')"
   ]
  },
  {
   "cell_type": "code",
   "execution_count": 4,
   "metadata": {},
   "outputs": [],
   "source": [
    "# Import the ARIMA model\n",
    "from statsmodels.tsa.arima.model import ARIMA\n",
    "\n",
    "# Instantiate the model\n",
    "model = ARIMA(y, order=(1,0,1))\n",
    "\n",
    "# Fit the model\n",
    "results = model.fit()"
   ]
  },
  {
   "attachments": {},
   "cell_type": "markdown",
   "metadata": {},
   "source": [
    "Great work! You just fit your first ARIMA model. An ARIMA(1,0,1) model is the exact same as an ARMA(1,1) model, so this was the correct model order for this data. We'll cover this in more detail in the next chapter.\n",
    "\n"
   ]
  },
  {
   "attachments": {},
   "cell_type": "markdown",
   "metadata": {},
   "source": [
    "### `02: Fitting AR and MA models`\n",
    "In this exercise you will fit an AR and an MA model to some data. The data here has been generated using the `arma_generate_sample()` function we used before.\n",
    "\n",
    "You know the real AR and MA parameters used to create this data so it is a really good way to gain some confidence with ARMA models and know you are doing it right. In the next exercise you'll move onto some real world data with confidence.\n",
    "\n",
    "There is a `pandas` DataFrame available in your environment called `sample`. It has two columns of different time series data."
   ]
  },
  {
   "cell_type": "code",
   "execution_count": 8,
   "metadata": {},
   "outputs": [],
   "source": [
    "sample = pd.read_csv(\"datasets/sample.csv\", index_col=0)"
   ]
  },
  {
   "attachments": {},
   "cell_type": "markdown",
   "metadata": {},
   "source": [
    "- Fit an AR(2) model to the `'timeseries_1'` column of `sample`.\n",
    "- Print a summary of the fitted model."
   ]
  },
  {
   "cell_type": "code",
   "execution_count": 9,
   "metadata": {},
   "outputs": [
    {
     "name": "stdout",
     "output_type": "stream",
     "text": [
      "                               SARIMAX Results                                \n",
      "==============================================================================\n",
      "Dep. Variable:           timeseries_1   No. Observations:                 1000\n",
      "Model:                 ARIMA(2, 0, 0)   Log Likelihood                 148.655\n",
      "Date:                Sat, 06 May 2023   AIC                           -289.310\n",
      "Time:                        08:31:17   BIC                           -269.679\n",
      "Sample:                             0   HQIC                          -281.849\n",
      "                               - 1000                                         \n",
      "Covariance Type:                  opg                                         \n",
      "==============================================================================\n",
      "                 coef    std err          z      P>|z|      [0.025      0.975]\n",
      "------------------------------------------------------------------------------\n",
      "const         -0.0027      0.018     -0.150      0.881      -0.037       0.032\n",
      "ar.L1          0.8979      0.031     28.658      0.000       0.837       0.959\n",
      "ar.L2         -0.2704      0.032     -8.561      0.000      -0.332      -0.208\n",
      "sigma2         0.0435      0.002     21.496      0.000       0.039       0.047\n",
      "===================================================================================\n",
      "Ljung-Box (L1) (Q):                   0.00   Jarque-Bera (JB):                 1.06\n",
      "Prob(Q):                              1.00   Prob(JB):                         0.59\n",
      "Heteroskedasticity (H):               0.95   Skew:                             0.03\n",
      "Prob(H) (two-sided):                  0.63   Kurtosis:                         2.85\n",
      "===================================================================================\n",
      "\n",
      "Warnings:\n",
      "[1] Covariance matrix calculated using the outer product of gradients (complex-step).\n"
     ]
    }
   ],
   "source": [
    "# Instantiate the model\n",
    "model = ARIMA(sample['timeseries_1'], order=(2,0,0))\n",
    "\n",
    "# Fit the model\n",
    "results = model.fit()\n",
    "\n",
    "# Print summary\n",
    "print(results.summary())"
   ]
  },
  {
   "attachments": {},
   "cell_type": "markdown",
   "metadata": {},
   "source": [
    "Question\n",
    "- Using the information in the summary printed, which of the following set of parameters do you think was used to generate the 'timeseries_1' data?\n",
    "```\n",
    "    ar_cofes = [1, -0.9, 0.3]\n",
    "    ma_cofes = [1]\n",
    "``` "
   ]
  },
  {
   "attachments": {},
   "cell_type": "markdown",
   "metadata": {},
   "source": [
    "- Fit an MA(3) model to the 'timeseries_2' column of sample.\n",
    "\n"
   ]
  },
  {
   "cell_type": "code",
   "execution_count": 10,
   "metadata": {},
   "outputs": [
    {
     "name": "stdout",
     "output_type": "stream",
     "text": [
      "                               SARIMAX Results                                \n",
      "==============================================================================\n",
      "Dep. Variable:           timeseries_2   No. Observations:                 1000\n",
      "Model:                 ARIMA(0, 0, 3)   Log Likelihood                 148.907\n",
      "Date:                Sat, 06 May 2023   AIC                           -287.813\n",
      "Time:                        08:33:53   BIC                           -263.275\n",
      "Sample:                             0   HQIC                          -278.487\n",
      "                               - 1000                                         \n",
      "Covariance Type:                  opg                                         \n",
      "==============================================================================\n",
      "                 coef    std err          z      P>|z|      [0.025      0.975]\n",
      "------------------------------------------------------------------------------\n",
      "const         -0.0018      0.012     -0.157      0.875      -0.025       0.021\n",
      "ma.L1          0.1994      0.032      6.181      0.000       0.136       0.263\n",
      "ma.L2          0.6359      0.025     25.434      0.000       0.587       0.685\n",
      "ma.L3         -0.0833      0.031     -2.700      0.007      -0.144      -0.023\n",
      "sigma2         0.0434      0.002     21.437      0.000       0.039       0.047\n",
      "===================================================================================\n",
      "Ljung-Box (L1) (Q):                   0.00   Jarque-Bera (JB):                 1.03\n",
      "Prob(Q):                              0.99   Prob(JB):                         0.60\n",
      "Heteroskedasticity (H):               0.94   Skew:                             0.00\n",
      "Prob(H) (two-sided):                  0.56   Kurtosis:                         2.84\n",
      "===================================================================================\n",
      "\n",
      "Warnings:\n",
      "[1] Covariance matrix calculated using the outer product of gradients (complex-step).\n"
     ]
    }
   ],
   "source": [
    "# Instantiate the model\n",
    "model = ARIMA(sample['timeseries_2'], order=(0,0,3))\n",
    "\n",
    "# Fit the model\n",
    "results = model.fit()\n",
    "\n",
    "# Print summary\n",
    "print(results.summary())"
   ]
  },
  {
   "attachments": {},
   "cell_type": "markdown",
   "metadata": {},
   "source": [
    "Question\n",
    "Using the information in the summary printed, which of the following set of parameters do you think was used to generate the 'timeseries_2' data?\n",
    "```\n",
    "    ar_cofes = [1]\n",
    "    ma_cofes = [1, 0.2, 0.6, -0.1]\n",
    "``` "
   ]
  },
  {
   "attachments": {},
   "cell_type": "markdown",
   "metadata": {},
   "source": [
    "Correct! The fitted models had very similar AR and MA coefficient values to the real ones! You know it works!\n",
    "\n"
   ]
  },
  {
   "attachments": {
    "image.png": {
     "image/png": "[encoded data removed]"
    }
   },
   "cell_type": "markdown",
   "metadata": {},
   "source": [
    "### `03: Fitting an ARMA model`\n",
    "In this exercise you will fit an ARMA model to the earthquakes dataset. You saw before that the earthquakes dataset is stationary so you don't need to transform it at all. It comes ready for modeling straight out the ground. You can remind yourself what it looks like below.\n",
    "\n",
    "![image.png](attachment:image.png)\n",
    "\n",
    "The earthquakes dataset is available in your environment as `earthquake`. The `ARIMA` class is also available in your environment.\n",
    "- Instantiate an ARMA(3,1) model and pass it the earthquakes dataset.\n",
    "- Fit the model.\n",
    "- Print the summary of the model fit.\n"
   ]
  },
  {
   "cell_type": "code",
   "execution_count": 22,
   "metadata": {},
   "outputs": [],
   "source": [
    "earthquake = pd.read_csv(\"datasets/earthquakes.csv\", index_col='date', parse_dates=True)\n",
    "earthquake = earthquake[['earthquakes_per_year']]"
   ]
  },
  {
   "cell_type": "code",
   "execution_count": 23,
   "metadata": {},
   "outputs": [
    {
     "name": "stdout",
     "output_type": "stream",
     "text": [
      "                                SARIMAX Results                                 \n",
      "================================================================================\n",
      "Dep. Variable:     earthquakes_per_year   No. Observations:                   99\n",
      "Model:                   ARIMA(3, 0, 1)   Log Likelihood                -315.673\n",
      "Date:                  Sat, 06 May 2023   AIC                            643.345\n",
      "Time:                          08:44:55   BIC                            658.916\n",
      "Sample:                      01-01-1900   HQIC                           649.645\n",
      "                           - 01-01-1998                                         \n",
      "Covariance Type:                    opg                                         \n",
      "==============================================================================\n",
      "                 coef    std err          z      P>|z|      [0.025      0.975]\n",
      "------------------------------------------------------------------------------\n",
      "const         19.6453      2.233      8.798      0.000      15.269      24.022\n",
      "ar.L1          0.5795      0.645      0.899      0.369      -0.684       1.843\n",
      "ar.L2          0.0251      0.308      0.081      0.935      -0.578       0.629\n",
      "ar.L3          0.1519      0.186      0.818      0.413      -0.212       0.516\n",
      "ma.L1         -0.1721      0.665     -0.259      0.796      -1.475       1.131\n",
      "sigma2        34.2630      4.939      6.938      0.000      24.583      43.943\n",
      "===================================================================================\n",
      "Ljung-Box (L1) (Q):                   0.00   Jarque-Bera (JB):                 5.36\n",
      "Prob(Q):                              0.97   Prob(JB):                         0.07\n",
      "Heteroskedasticity (H):               0.72   Skew:                             0.52\n",
      "Prob(H) (two-sided):                  0.36   Kurtosis:                         3.44\n",
      "===================================================================================\n",
      "\n",
      "Warnings:\n",
      "[1] Covariance matrix calculated using the outer product of gradients (complex-step).\n"
     ]
    },
    {
     "name": "stderr",
     "output_type": "stream",
     "text": [
      "c:\\Users\\ai_mo\\AppData\\Local\\Programs\\Python\\Python39\\lib\\site-packages\\statsmodels\\tsa\\base\\tsa_model.py:471: ValueWarning: No frequency information was provided, so inferred frequency AS-JAN will be used.\n",
      "  self._init_dates(dates, freq)\n",
      "c:\\Users\\ai_mo\\AppData\\Local\\Programs\\Python\\Python39\\lib\\site-packages\\statsmodels\\tsa\\base\\tsa_model.py:471: ValueWarning: No frequency information was provided, so inferred frequency AS-JAN will be used.\n",
      "  self._init_dates(dates, freq)\n",
      "c:\\Users\\ai_mo\\AppData\\Local\\Programs\\Python\\Python39\\lib\\site-packages\\statsmodels\\tsa\\base\\tsa_model.py:471: ValueWarning: No frequency information was provided, so inferred frequency AS-JAN will be used.\n",
      "  self._init_dates(dates, freq)\n"
     ]
    }
   ],
   "source": [
    "# Instantiate the model\n",
    "model = ARIMA(earthquake, order=(3,0,1))\n",
    "\n",
    "# Fit the model\n",
    "results = model.fit()\n",
    "\n",
    "# Print model fit summary\n",
    "print(results.summary())"
   ]
  },
  {
   "attachments": {
    "image.png": {
     "image/png": "[encoded data removed]"
    }
   },
   "cell_type": "markdown",
   "metadata": {},
   "source": [
    "### `04: Fitting an ARMAX model`\n",
    "In this exercise you will fit an ARMAX model to a time series which represents the wait times at an accident and emergency room for urgent medical care.\n",
    "\n",
    "The variable you would like to model is the wait times to be seen by a medical professional wait_times_hrs. This may be related to an exogenous variable that you measured nurse_count which is the number of nurses on shift at any given time. These can be seen below.\n",
    "\n",
    "![image.png](attachment:image.png)\n",
    "\n",
    "\n",
    "This is a particularly interesting case of time series modeling as, if the number of nurses has an effect, you could change this to affect the wait times.\n",
    "The time series data is available in your environment as `hospital` and has the two columns mentioned above. The `ARMA` class is also available for you.\n",
    "\n",
    "- Instantiate an ARMAX(2,1) model to train on the `'wait_times_hrs'` column of `hospital` using the `'nurse_count'` column as an exogenous variable.\n",
    "- Fit the model.\n",
    "- Print the summary of the model fit."
   ]
  },
  {
   "cell_type": "code",
   "execution_count": 24,
   "metadata": {},
   "outputs": [
    {
     "data": {
      "text/html": [
       "<div>\n",
       "<style scoped>\n",
       "    .dataframe tbody tr th:only-of-type {\n",
       "        vertical-align: middle;\n",
       "    }\n",
       "\n",
       "    .dataframe tbody tr th {\n",
       "        vertical-align: top;\n",
       "    }\n",
       "\n",
       "    .dataframe thead th {\n",
       "        text-align: right;\n",
       "    }\n",
       "</style>\n",
       "<table border=\"1\" class=\"dataframe\">\n",
       "  <thead>\n",
       "    <tr style=\"text-align: right;\">\n",
       "      <th></th>\n",
       "      <th>wait_times_hrs</th>\n",
       "      <th>nurse_count</th>\n",
       "    </tr>\n",
       "  </thead>\n",
       "  <tbody>\n",
       "    <tr>\n",
       "      <th>2019-03-04 00:00:00</th>\n",
       "      <td>1.747</td>\n",
       "      <td>1</td>\n",
       "    </tr>\n",
       "    <tr>\n",
       "      <th>2019-03-04 01:00:00</th>\n",
       "      <td>1.665</td>\n",
       "      <td>1</td>\n",
       "    </tr>\n",
       "    <tr>\n",
       "      <th>2019-03-04 02:00:00</th>\n",
       "      <td>1.647</td>\n",
       "      <td>1</td>\n",
       "    </tr>\n",
       "    <tr>\n",
       "      <th>2019-03-04 03:00:00</th>\n",
       "      <td>1.620</td>\n",
       "      <td>1</td>\n",
       "    </tr>\n",
       "    <tr>\n",
       "      <th>2019-03-04 04:00:00</th>\n",
       "      <td>1.480</td>\n",
       "      <td>1</td>\n",
       "    </tr>\n",
       "    <tr>\n",
       "      <th>...</th>\n",
       "      <td>...</td>\n",
       "      <td>...</td>\n",
       "    </tr>\n",
       "    <tr>\n",
       "      <th>2019-03-10 19:00:00</th>\n",
       "      <td>1.102</td>\n",
       "      <td>7</td>\n",
       "    </tr>\n",
       "    <tr>\n",
       "      <th>2019-03-10 20:00:00</th>\n",
       "      <td>1.601</td>\n",
       "      <td>5</td>\n",
       "    </tr>\n",
       "    <tr>\n",
       "      <th>2019-03-10 21:00:00</th>\n",
       "      <td>1.709</td>\n",
       "      <td>5</td>\n",
       "    </tr>\n",
       "    <tr>\n",
       "      <th>2019-03-10 22:00:00</th>\n",
       "      <td>1.293</td>\n",
       "      <td>5</td>\n",
       "    </tr>\n",
       "    <tr>\n",
       "      <th>2019-03-10 23:00:00</th>\n",
       "      <td>1.553</td>\n",
       "      <td>3</td>\n",
       "    </tr>\n",
       "  </tbody>\n",
       "</table>\n",
       "<p>168 rows × 2 columns</p>\n",
       "</div>"
      ],
      "text/plain": [
       "                     wait_times_hrs  nurse_count\n",
       "2019-03-04 00:00:00           1.747            1\n",
       "2019-03-04 01:00:00           1.665            1\n",
       "2019-03-04 02:00:00           1.647            1\n",
       "2019-03-04 03:00:00           1.620            1\n",
       "2019-03-04 04:00:00           1.480            1\n",
       "...                             ...          ...\n",
       "2019-03-10 19:00:00           1.102            7\n",
       "2019-03-10 20:00:00           1.601            5\n",
       "2019-03-10 21:00:00           1.709            5\n",
       "2019-03-10 22:00:00           1.293            5\n",
       "2019-03-10 23:00:00           1.553            3\n",
       "\n",
       "[168 rows x 2 columns]"
      ]
     },
     "execution_count": 24,
     "metadata": {},
     "output_type": "execute_result"
    }
   ],
   "source": [
    "hospital = pd.read_csv(\"datasets/hospital.csv\", index_col=0, parse_dates=True)\n",
    "hospital"
   ]
  },
  {
   "cell_type": "code",
   "execution_count": 26,
   "metadata": {},
   "outputs": [
    {
     "name": "stderr",
     "output_type": "stream",
     "text": [
      "c:\\Users\\ai_mo\\AppData\\Local\\Programs\\Python\\Python39\\lib\\site-packages\\statsmodels\\tsa\\base\\tsa_model.py:471: ValueWarning: No frequency information was provided, so inferred frequency H will be used.\n",
      "  self._init_dates(dates, freq)\n",
      "c:\\Users\\ai_mo\\AppData\\Local\\Programs\\Python\\Python39\\lib\\site-packages\\statsmodels\\tsa\\base\\tsa_model.py:471: ValueWarning: No frequency information was provided, so inferred frequency H will be used.\n",
      "  self._init_dates(dates, freq)\n",
      "c:\\Users\\ai_mo\\AppData\\Local\\Programs\\Python\\Python39\\lib\\site-packages\\statsmodels\\tsa\\base\\tsa_model.py:471: ValueWarning: No frequency information was provided, so inferred frequency H will be used.\n",
      "  self._init_dates(dates, freq)\n"
     ]
    },
    {
     "name": "stdout",
     "output_type": "stream",
     "text": [
      "                               SARIMAX Results                                \n",
      "==============================================================================\n",
      "Dep. Variable:         wait_times_hrs   No. Observations:                  168\n",
      "Model:                 ARIMA(2, 0, 1)   Log Likelihood                 -11.842\n",
      "Date:                Sat, 06 May 2023   AIC                             35.683\n",
      "Time:                        09:03:38   BIC                             54.427\n",
      "Sample:                    03-04-2019   HQIC                            43.290\n",
      "                         - 03-10-2019                                         \n",
      "Covariance Type:                  opg                                         \n",
      "===============================================================================\n",
      "                  coef    std err          z      P>|z|      [0.025      0.975]\n",
      "-------------------------------------------------------------------------------\n",
      "const           2.1001      0.086     24.386      0.000       1.931       2.269\n",
      "nurse_count    -0.1171      0.012     -9.567      0.000      -0.141      -0.093\n",
      "ar.L1           0.5694      0.169      3.366      0.001       0.238       0.901\n",
      "ar.L2          -0.1613      0.140     -1.150      0.250      -0.436       0.114\n",
      "ma.L1           0.3725      0.169      2.210      0.027       0.042       0.703\n",
      "sigma2          0.0671      0.009      7.601      0.000       0.050       0.084\n",
      "===================================================================================\n",
      "Ljung-Box (L1) (Q):                   0.02   Jarque-Bera (JB):                 3.11\n",
      "Prob(Q):                              0.90   Prob(JB):                         0.21\n",
      "Heteroskedasticity (H):               0.94   Skew:                             0.18\n",
      "Prob(H) (two-sided):                  0.81   Kurtosis:                         2.44\n",
      "===================================================================================\n",
      "\n",
      "Warnings:\n",
      "[1] Covariance matrix calculated using the outer product of gradients (complex-step).\n"
     ]
    }
   ],
   "source": [
    "# Instantiate the model\n",
    "model = ARIMA(hospital['wait_times_hrs'], order=(2,0,1), exog=hospital['nurse_count'])\n",
    "\n",
    "# Fit the model\n",
    "results = model.fit()\n",
    "\n",
    "# Print model fit summary\n",
    "print(results.summary())"
   ]
  },
  {
   "attachments": {},
   "cell_type": "markdown",
   "metadata": {},
   "source": [
    "Great work! Look back at the model parameters. What is the relation between the number of nurses on shift and the wait times? If you predicted that tomorrow was going to have long wait times how could you combat this?\n",
    "\n"
   ]
  },
  {
   "attachments": {},
   "cell_type": "markdown",
   "metadata": {},
   "source": [
    "### `05: Generating one-step-ahead predictions`\n",
    "It is very hard to forecast stock prices. Classic economics actually tells us that this should be impossible because of market clearing.\n",
    "\n",
    "Your task in this exercise is to attempt the impossible and predict the Amazon stock price anyway.\n",
    "\n",
    "In this exercise you will generate one-step-ahead predictions for the stock price as well as the uncertainty of these predictions.\n",
    "\n",
    "A model has already been fitted to the Amazon data for you. The results object from this model is available in your environment as `results`.\n",
    "\n",
    "- Use the `results` object to make one-step-ahead predictions over the latest 30 days of data and assign the result to `one_step_forecast`.\n",
    "- Assign your mean predictions to `mean_forecast` using one of the attributes of the `one_step_forecast` object.\n",
    "- Extract the confidence intervals of your predictions from the `one_step_forecast` object and assign them to `confidence_intervals`.\n",
    "- Print your mean predictions."
   ]
  },
  {
   "cell_type": "code",
   "execution_count": 72,
   "metadata": {},
   "outputs": [
    {
     "name": "stderr",
     "output_type": "stream",
     "text": [
      "c:\\Users\\ai_mo\\AppData\\Local\\Programs\\Python\\Python39\\lib\\site-packages\\statsmodels\\tsa\\base\\tsa_model.py:471: ValueWarning: A date index has been provided, but it has no associated frequency information and so will be ignored when e.g. forecasting.\n",
      "  self._init_dates(dates, freq)\n",
      "c:\\Users\\ai_mo\\AppData\\Local\\Programs\\Python\\Python39\\lib\\site-packages\\statsmodels\\tsa\\base\\tsa_model.py:471: ValueWarning: A date index has been provided, but it has no associated frequency information and so will be ignored when e.g. forecasting.\n",
      "  self._init_dates(dates, freq)\n",
      "c:\\Users\\ai_mo\\AppData\\Local\\Programs\\Python\\Python39\\lib\\site-packages\\statsmodels\\base\\model.py:604: ConvergenceWarning: Maximum Likelihood optimization failed to converge. Check mle_retvals\n",
      "  warnings.warn(\"Maximum Likelihood optimization failed to \"\n"
     ]
    },
    {
     "data": {
      "text/html": [
       "<table class=\"simpletable\">\n",
       "<caption>SARIMAX Results</caption>\n",
       "<tr>\n",
       "  <th>Dep. Variable:</th>                <td>close</td>              <th>  No. Observations:  </th>    <td>278</td>   \n",
       "</tr>\n",
       "<tr>\n",
       "  <th>Model:</th>           <td>SARIMAX(3, 1, 3)x(1, 0, [1], 7)</td> <th>  Log Likelihood     </th> <td>-1338.386</td>\n",
       "</tr>\n",
       "<tr>\n",
       "  <th>Date:</th>                   <td>Sat, 06 May 2023</td>         <th>  AIC                </th> <td>2694.772</td> \n",
       "</tr>\n",
       "<tr>\n",
       "  <th>Time:</th>                       <td>10:01:29</td>             <th>  BIC                </th> <td>2727.023</td> \n",
       "</tr>\n",
       "<tr>\n",
       "  <th>Sample:</th>                         <td>0</td>                <th>  HQIC               </th> <td>2707.729</td> \n",
       "</tr>\n",
       "<tr>\n",
       "  <th></th>                             <td> - 278</td>              <th>                     </th>     <td> </td>    \n",
       "</tr>\n",
       "<tr>\n",
       "  <th>Covariance Type:</th>               <td>opg</td>               <th>                     </th>     <td> </td>    \n",
       "</tr>\n",
       "</table>\n",
       "<table class=\"simpletable\">\n",
       "<tr>\n",
       "     <td></td>        <th>coef</th>     <th>std err</th>      <th>z</th>      <th>P>|z|</th>  <th>[0.025</th>    <th>0.975]</th>  \n",
       "</tr>\n",
       "<tr>\n",
       "  <th>ar.L1</th>   <td>    0.1075</td> <td>    0.048</td> <td>    2.248</td> <td> 0.025</td> <td>    0.014</td> <td>    0.201</td>\n",
       "</tr>\n",
       "<tr>\n",
       "  <th>ar.L2</th>   <td>    0.0526</td> <td>    0.039</td> <td>    1.362</td> <td> 0.173</td> <td>   -0.023</td> <td>    0.128</td>\n",
       "</tr>\n",
       "<tr>\n",
       "  <th>ar.L3</th>   <td>   -0.8974</td> <td>    0.042</td> <td>  -21.547</td> <td> 0.000</td> <td>   -0.979</td> <td>   -0.816</td>\n",
       "</tr>\n",
       "<tr>\n",
       "  <th>ma.L1</th>   <td>   -0.1202</td> <td>    0.039</td> <td>   -3.075</td> <td> 0.002</td> <td>   -0.197</td> <td>   -0.044</td>\n",
       "</tr>\n",
       "<tr>\n",
       "  <th>ma.L2</th>   <td>   -0.1414</td> <td>    0.034</td> <td>   -4.141</td> <td> 0.000</td> <td>   -0.208</td> <td>   -0.074</td>\n",
       "</tr>\n",
       "<tr>\n",
       "  <th>ma.L3</th>   <td>    0.9686</td> <td>    0.045</td> <td>   21.437</td> <td> 0.000</td> <td>    0.880</td> <td>    1.057</td>\n",
       "</tr>\n",
       "<tr>\n",
       "  <th>ar.S.L7</th> <td>    0.1696</td> <td>    0.681</td> <td>    0.249</td> <td> 0.803</td> <td>   -1.166</td> <td>    1.505</td>\n",
       "</tr>\n",
       "<tr>\n",
       "  <th>ma.S.L7</th> <td>   -0.2123</td> <td>    0.672</td> <td>   -0.316</td> <td> 0.752</td> <td>   -1.530</td> <td>    1.106</td>\n",
       "</tr>\n",
       "<tr>\n",
       "  <th>sigma2</th>  <td> 1331.7578</td> <td>  108.515</td> <td>   12.273</td> <td> 0.000</td> <td> 1119.073</td> <td> 1544.443</td>\n",
       "</tr>\n",
       "</table>\n",
       "<table class=\"simpletable\">\n",
       "<tr>\n",
       "  <th>Ljung-Box (L1) (Q):</th>     <td>0.55</td> <th>  Jarque-Bera (JB):  </th> <td>21.81</td>\n",
       "</tr>\n",
       "<tr>\n",
       "  <th>Prob(Q):</th>                <td>0.46</td> <th>  Prob(JB):          </th> <td>0.00</td> \n",
       "</tr>\n",
       "<tr>\n",
       "  <th>Heteroskedasticity (H):</th> <td>3.10</td> <th>  Skew:              </th> <td>-0.35</td>\n",
       "</tr>\n",
       "<tr>\n",
       "  <th>Prob(H) (two-sided):</th>    <td>0.00</td> <th>  Kurtosis:          </th> <td>4.22</td> \n",
       "</tr>\n",
       "</table><br/><br/>Warnings:<br/>[1] Covariance matrix calculated using the outer product of gradients (complex-step)."
      ],
      "text/plain": [
       "<class 'statsmodels.iolib.summary.Summary'>\n",
       "\"\"\"\n",
       "                                      SARIMAX Results                                      \n",
       "===========================================================================================\n",
       "Dep. Variable:                               close   No. Observations:                  278\n",
       "Model:             SARIMAX(3, 1, 3)x(1, 0, [1], 7)   Log Likelihood               -1338.386\n",
       "Date:                             Sat, 06 May 2023   AIC                           2694.772\n",
       "Time:                                     10:01:29   BIC                           2727.023\n",
       "Sample:                                          0   HQIC                          2707.729\n",
       "                                             - 278                                         \n",
       "Covariance Type:                               opg                                         \n",
       "==============================================================================\n",
       "                 coef    std err          z      P>|z|      [0.025      0.975]\n",
       "------------------------------------------------------------------------------\n",
       "ar.L1          0.1075      0.048      2.248      0.025       0.014       0.201\n",
       "ar.L2          0.0526      0.039      1.362      0.173      -0.023       0.128\n",
       "ar.L3         -0.8974      0.042    -21.547      0.000      -0.979      -0.816\n",
       "ma.L1         -0.1202      0.039     -3.075      0.002      -0.197      -0.044\n",
       "ma.L2         -0.1414      0.034     -4.141      0.000      -0.208      -0.074\n",
       "ma.L3          0.9686      0.045     21.437      0.000       0.880       1.057\n",
       "ar.S.L7        0.1696      0.681      0.249      0.803      -1.166       1.505\n",
       "ma.S.L7       -0.2123      0.672     -0.316      0.752      -1.530       1.106\n",
       "sigma2      1331.7578    108.515     12.273      0.000    1119.073    1544.443\n",
       "===================================================================================\n",
       "Ljung-Box (L1) (Q):                   0.55   Jarque-Bera (JB):                21.81\n",
       "Prob(Q):                              0.46   Prob(JB):                         0.00\n",
       "Heteroskedasticity (H):               3.10   Skew:                            -0.35\n",
       "Prob(H) (two-sided):                  0.00   Kurtosis:                         4.22\n",
       "===================================================================================\n",
       "\n",
       "Warnings:\n",
       "[1] Covariance matrix calculated using the outer product of gradients (complex-step).\n",
       "\"\"\""
      ]
     },
     "execution_count": 72,
     "metadata": {},
     "output_type": "execute_result"
    }
   ],
   "source": [
    "import numpy as np\n",
    "amazon = pd.read_csv('datasets/amazon_close.csv', \n",
    "            index_col='date',\n",
    "            parse_dates=True)\n",
    "amazon = amazon.iloc[::-1] \n",
    "\n",
    "\n",
    "from statsmodels.tsa.statespace.sarimax import SARIMAX\n",
    "\n",
    "model = SARIMAX(amazon.loc['2018-01-01':'2019-02-08'], order=(3, 1, 3), seasonal_order=(1, 0, 1, 7),\n",
    "                enforce_invertibility=False,\n",
    "                enforce_stationarity=False,\n",
    "                simple_differencing=False, \n",
    "                measurement_error=False,\n",
    "                k_trend=0)\n",
    "results = model.fit()\n",
    "results.summary()"
   ]
  },
  {
   "cell_type": "code",
   "execution_count": 73,
   "metadata": {},
   "outputs": [
    {
     "name": "stdout",
     "output_type": "stream",
     "text": [
      "date\n",
      "2018-12-27    1475.403803\n",
      "2018-12-28    1462.744929\n",
      "2018-12-31    1471.191670\n",
      "2019-01-02    1498.167500\n",
      "2019-01-03    1537.650659\n",
      "2019-01-04    1507.937327\n",
      "2019-01-07    1581.095836\n",
      "2019-01-08    1627.085844\n",
      "2019-01-09    1650.293692\n",
      "2019-01-10    1649.502419\n",
      "2019-01-11    1657.851002\n",
      "2019-01-14    1647.932078\n",
      "2019-01-15    1625.764201\n",
      "2019-01-16    1670.943106\n",
      "2019-01-17    1672.334455\n",
      "2019-01-18    1683.461218\n",
      "2019-01-22    1693.835230\n",
      "2019-01-23    1642.444293\n",
      "2019-01-24    1657.241734\n",
      "2019-01-25    1652.144017\n",
      "2019-01-28    1661.247168\n",
      "2019-01-29    1620.866278\n",
      "2019-01-30    1594.935126\n",
      "2019-01-31    1679.488962\n",
      "2019-02-01    1724.939881\n",
      "2019-02-04    1629.052683\n",
      "2019-02-05    1638.289543\n",
      "2019-02-06    1647.461831\n",
      "2019-02-07    1636.785990\n",
      "2019-02-08    1606.561891\n",
      "Name: predicted_mean, dtype: float64\n"
     ]
    }
   ],
   "source": [
    "# Generate predictions\n",
    "one_step_forecast = results.get_prediction(start=-30)\n",
    "\n",
    "# Extract prediction mean\n",
    "mean_forecast = one_step_forecast.predicted_mean\n",
    "\n",
    "# Get confidence intervals of  predictions\n",
    "confidence_intervals = one_step_forecast.conf_int()\n",
    "\n",
    "# Select lower and upper confidence limits\n",
    "lower_limits = confidence_intervals.loc[:,'lower close']\n",
    "upper_limits = confidence_intervals.loc[:,'upper close']\n",
    "\n",
    "# Print best estimate  predictions\n",
    "print(mean_forecast)"
   ]
  },
  {
   "attachments": {},
   "cell_type": "markdown",
   "metadata": {},
   "source": [
    "### `06: Plotting one-step-ahead predictions`\n",
    "Now that you have your predictions on the Amazon stock, you should plot these predictions to see how you've done.\n",
    "\n",
    "You made predictions over the latest 30 days of data available, always forecasting just one day ahead. By evaluating these predictions you can judge how the model performs in making predictions for just the next day, where you don't know the answer.\n",
    "\n",
    "The lower_limits, upper_limits and amazon DataFrames as well as your mean prediction mean_forecast that you created in the last exercise are available in your environment.\n",
    "\n",
    "\n",
    "- Plot the `amazon` data, using the `amazon.index` as the x coordinates.\n",
    "- Plot the `mean_forecast` prediction similarly, using `mean_forecast.index` as the x-coordinates.\n",
    "- Plot a shaded area between `lower_limits` and `upper_limits` of your confidence interval. Use the index of `lower_limits` as the x coordinates."
   ]
  },
  {
   "cell_type": "code",
   "execution_count": 74,
   "metadata": {},
   "outputs": [
    {
     "data": {
      "image/png": "[encoded data removed]",
      "text/plain": [
       "<Figure size 640x480 with 1 Axes>"
      ]
     },
     "metadata": {},
     "output_type": "display_data"
    }
   ],
   "source": [
    "# plot the amazon data\n",
    "plt.plot(amazon.index, amazon, label='observed')\n",
    "\n",
    "# plot your mean predictions\n",
    "plt.plot(mean_forecast.index, mean_forecast, color='r', label='forecast')\n",
    "\n",
    "# shade the area between your confidence limits\n",
    "plt.fill_between(mean_forecast.index, lower_limits,\n",
    "\t\t upper_limits, color='pink')\n",
    "\n",
    "# set labels, legends and show plot\n",
    "plt.xlabel('Date')\n",
    "plt.ylabel('Amazon Stock Price - Close USD')\n",
    "plt.legend()\n",
    "plt.show()"
   ]
  },
  {
   "attachments": {},
   "cell_type": "markdown",
   "metadata": {},
   "source": [
    "\n",
    "Great! Have a look at your plotted forecast. Is the mean prediction close to the observed values? Do the observed values lie between the upper and lower limits of your prediction?\n",
    "\n"
   ]
  },
  {
   "attachments": {},
   "cell_type": "markdown",
   "metadata": {},
   "source": [
    "### `07: Generating dynamic forecasts`\n",
    "Now lets move a little further into the future, to dynamic predictions. What if you wanted to predict the Amazon stock price, not just for tomorrow, but for next week or next month? This is where dynamical predictions come in.\n",
    "\n",
    "Remember that in the video you learned how it is more difficult to make precise long-term forecasts because the shock terms add up. The further into the future the predictions go, the more uncertain. This is especially true with stock data and so you will likely find that your predictions in this exercise are not as precise as those in the last exercise.\n",
    "\n",
    "- Use the `results` object to make a dynamic predictions for the latest 30 days and assign the result to `dynamic_forecast`.\n",
    "- Assign your predictions to a new variable called `mean_forecast` using one of the attributes of the `dynamic_forecast` object.\n",
    "- Extract the confidence intervals of your predictions from the `dynamic_forecast` object and assign them to a new variable `confidence_intervals`.\n",
    "- Print your mean predictions."
   ]
  },
  {
   "cell_type": "code",
   "execution_count": 75,
   "metadata": {},
   "outputs": [
    {
     "name": "stdout",
     "output_type": "stream",
     "text": [
      "date\n",
      "2018-12-27    1475.403803\n",
      "2018-12-28    1476.312633\n",
      "2018-12-31    1468.484345\n",
      "2019-01-02    1467.287475\n",
      "2019-01-03    1468.406720\n",
      "2019-01-04    1478.267092\n",
      "2019-01-07    1476.862277\n",
      "2019-01-08    1480.025676\n",
      "2019-01-09    1472.645186\n",
      "2019-01-10    1469.924340\n",
      "2019-01-11    1467.021746\n",
      "2019-01-14    1473.609277\n",
      "2019-01-15    1477.077775\n",
      "2019-01-16    1479.791900\n",
      "2019-01-17    1474.999286\n",
      "2019-01-18    1471.717917\n",
      "2019-01-22    1468.108419\n",
      "2019-01-23    1471.952988\n",
      "2019-01-24    1475.192346\n",
      "2019-01-25    1479.061985\n",
      "2019-01-28    1476.095099\n",
      "2019-01-29    1473.182012\n",
      "2019-01-30    1469.274663\n",
      "2019-01-31    1471.267091\n",
      "2019-02-01    1473.907651\n",
      "2019-02-04    1477.814892\n",
      "2019-02-05    1476.599644\n",
      "2019-02-06    1474.287419\n",
      "2019-02-07    1470.487088\n",
      "2019-02-08    1471.053102\n",
      "Name: predicted_mean, dtype: float64\n"
     ]
    }
   ],
   "source": [
    "# Generate predictions\n",
    "dynamic_forecast = results.get_prediction(start=-30, dynamic=True)\n",
    "\n",
    "# Extract prediction mean\n",
    "mean_forecast = dynamic_forecast.predicted_mean\n",
    "\n",
    "# Get confidence intervals of predictions\n",
    "confidence_intervals = dynamic_forecast.conf_int()\n",
    "\n",
    "# Select lower and upper confidence limits\n",
    "lower_limits = confidence_intervals.loc[:,'lower close']\n",
    "upper_limits = confidence_intervals.loc[:,'upper close']\n",
    "\n",
    "# Print best estimate predictions\n",
    "print(mean_forecast)"
   ]
  },
  {
   "attachments": {},
   "cell_type": "markdown",
   "metadata": {},
   "source": [
    "Your dynamical predictions are dynamite! Statsmodels makes it super simple to switch between one-step ahead and dynamical predictions.\n",
    "\n"
   ]
  },
  {
   "attachments": {},
   "cell_type": "markdown",
   "metadata": {},
   "source": [
    "### `08: Plotting dynamic forecasts`\n",
    "Time to plot your predictions. Remember that making dynamic predictions, means that your model makes predictions with no corrections, unlike the one-step-ahead predictions. This is kind of like making a forecast now for the next 30 days, and then waiting to see what happens before comparing how good your predictions were.\n",
    "\n",
    "The lower_limits, upper_limits and amazon DataFrames as well as your mean predictions mean_forecast that you created in the last exercise are available in your environment.\n",
    "\n",
    "- Plot the `amazon` data using the dates in the index of this DataFrame as the x coordinates and the values as the y coordinates.\n",
    "- Plot the `mean_forecast` predictions similarly.\n",
    "- Plot a shaded area between `lower_limits` and `upper_limits` of your confidence interval. Use the index of one of these DataFrames as the x coordinates."
   ]
  },
  {
   "cell_type": "code",
   "execution_count": 79,
   "metadata": {},
   "outputs": [
    {
     "data": {
      "image/png": "[encoded data removed]",
      "text/plain": [
       "<Figure size 640x480 with 1 Axes>"
      ]
     },
     "metadata": {},
     "output_type": "display_data"
    }
   ],
   "source": [
    "# plot the amazon data\n",
    "plt.plot(amazon.index, amazon, label='observed')\n",
    "\n",
    "# plot your mean forecast\n",
    "plt.plot(mean_forecast.index, mean_forecast, color='r', label='forecast')\n",
    "\n",
    "# shade the area between your confidence limits\n",
    "plt.fill_between(mean_forecast.index, lower_limits, \n",
    "         upper_limits, color='pink')\n",
    "\n",
    "# set labels, legends and show plot\n",
    "plt.xlabel('Date')\n",
    "plt.ylabel('Amazon Stock Price - Close USD')\n",
    "plt.legend()\n",
    "plt.show()"
   ]
  },
  {
   "attachments": {},
   "cell_type": "markdown",
   "metadata": {},
   "source": [
    "Great! It is very hard to predict stock market performance and so your predictions have a wide uncertainty. However, note that the real stock data stayed within your uncertainty limits!\n",
    "\n"
   ]
  },
  {
   "attachments": {},
   "cell_type": "markdown",
   "metadata": {},
   "source": [
    "### `09: Differencing and fitting ARMA`\n",
    "In this exercise you will fit an ARMA model to the Amazon stocks dataset. As you saw before, this is a non-stationary dataset. You will use differencing to make it stationary so that you can fit an ARMA model.\n",
    "\n",
    "In the next section you'll make a forecast of the differences and use this to forecast the actual values.\n",
    "\n",
    "The Amazon stock time series is available in your environment as amazon. The ARIMA model class is also available in your environment.\n",
    "\n",
    "- Use the `.diff()` method of `amazon` to make the time series stationary by taking the first difference. Don't forget to drop the `NaN` values using the `.dropna()` method.\n",
    "- Create an ARMA(2,2) model using the `ARIMA` class, passing it the stationary data.\n",
    "- Fit the model."
   ]
  },
  {
   "cell_type": "code",
   "execution_count": 80,
   "metadata": {},
   "outputs": [
    {
     "name": "stderr",
     "output_type": "stream",
     "text": [
      "c:\\Users\\ai_mo\\AppData\\Local\\Programs\\Python\\Python39\\lib\\site-packages\\statsmodels\\tsa\\base\\tsa_model.py:471: ValueWarning: A date index has been provided, but it has no associated frequency information and so will be ignored when e.g. forecasting.\n",
      "  self._init_dates(dates, freq)\n",
      "c:\\Users\\ai_mo\\AppData\\Local\\Programs\\Python\\Python39\\lib\\site-packages\\statsmodels\\tsa\\base\\tsa_model.py:471: ValueWarning: A date index has been provided, but it has no associated frequency information and so will be ignored when e.g. forecasting.\n",
      "  self._init_dates(dates, freq)\n",
      "c:\\Users\\ai_mo\\AppData\\Local\\Programs\\Python\\Python39\\lib\\site-packages\\statsmodels\\tsa\\base\\tsa_model.py:471: ValueWarning: A date index has been provided, but it has no associated frequency information and so will be ignored when e.g. forecasting.\n",
      "  self._init_dates(dates, freq)\n"
     ]
    },
    {
     "name": "stdout",
     "output_type": "stream",
     "text": [
      "                               SARIMAX Results                                \n",
      "==============================================================================\n",
      "Dep. Variable:                  close   No. Observations:                 1258\n",
      "Model:                 ARIMA(2, 0, 2)   Log Likelihood               -5532.371\n",
      "Date:                Sat, 06 May 2023   AIC                          11076.743\n",
      "Time:                        10:18:45   BIC                          11107.566\n",
      "Sample:                             0   HQIC                         11088.327\n",
      "                               - 1258                                         \n",
      "Covariance Type:                  opg                                         \n",
      "==============================================================================\n",
      "                 coef    std err          z      P>|z|      [0.025      0.975]\n",
      "------------------------------------------------------------------------------\n",
      "const          0.9867      0.494      1.996      0.046       0.018       1.955\n",
      "ar.L1         -0.1541      0.073     -2.119      0.034      -0.297      -0.012\n",
      "ar.L2          0.7945      0.072     11.085      0.000       0.654       0.935\n",
      "ma.L1          0.1363      0.067      2.020      0.043       0.004       0.269\n",
      "ma.L2         -0.8457      0.066    -12.822      0.000      -0.975      -0.716\n",
      "sigma2       386.5897      6.185     62.504      0.000     374.467     398.712\n",
      "===================================================================================\n",
      "Ljung-Box (L1) (Q):                   0.09   Jarque-Bera (JB):              6883.36\n",
      "Prob(Q):                              0.77   Prob(JB):                         0.00\n",
      "Heteroskedasticity (H):              15.57   Skew:                            -0.35\n",
      "Prob(H) (two-sided):                  0.00   Kurtosis:                        14.44\n",
      "===================================================================================\n",
      "\n",
      "Warnings:\n",
      "[1] Covariance matrix calculated using the outer product of gradients (complex-step).\n"
     ]
    }
   ],
   "source": [
    "# Take the first difference of the data\n",
    "amazon_diff = amazon.diff().dropna()\n",
    "\n",
    "# Create ARMA(2,2) model\n",
    "arma = ARIMA(amazon_diff, order=(2,0,2))\n",
    "\n",
    "# Fit model\n",
    "arma_results = arma.fit()\n",
    "\n",
    "# Print fit summary\n",
    "print(arma_results.summary())"
   ]
  },
  {
   "attachments": {},
   "cell_type": "markdown",
   "metadata": {},
   "source": [
    "Great. Remember that now you have a model which you can use to predict the difference values, not the absolute value of the amazon dataset.\n",
    "\n"
   ]
  },
  {
   "attachments": {},
   "cell_type": "markdown",
   "metadata": {},
   "source": [
    "### `10: Unrolling ARMA forecast`\n",
    "Now you will use the model that you trained in the previous exercise arma in order to forecast the absolute value of the Amazon stocks dataset. Remember that sometimes predicting the difference could be enough; will the stocks go up, or down; but sometimes the absolute value is key.\n",
    "\n",
    "The results object from the model you trained in the last exercise is available in your environment as arma_results. The np.cumsum() function and the original DataFrame amazon are also available.\n",
    "\n",
    "- Use the `.get_forecast()` method of the `arima_results` object and select the predicted mean of the next 10 differences.\n",
    "- Use the `np.cumsum()` function to integrate your difference forecast.\n",
    "- Add the last value of the original DataFrame to make your forecast an absolute value."
   ]
  },
  {
   "cell_type": "code",
   "execution_count": 81,
   "metadata": {},
   "outputs": [
    {
     "name": "stdout",
     "output_type": "stream",
     "text": [
      "1258    1592.060529\n",
      "1259    1594.209784\n",
      "1260    1597.284553\n",
      "1261    1598.873001\n",
      "1262    1601.425849\n",
      "1263    1602.649210\n",
      "1264    1604.843687\n",
      "1265    1605.832242\n",
      "1266    1607.778202\n",
      "1267    1608.618520\n",
      "Name: predicted_mean, dtype: float64\n"
     ]
    },
    {
     "name": "stderr",
     "output_type": "stream",
     "text": [
      "c:\\Users\\ai_mo\\AppData\\Local\\Programs\\Python\\Python39\\lib\\site-packages\\statsmodels\\tsa\\base\\tsa_model.py:834: ValueWarning: No supported index is available. Prediction results will be given with an integer index beginning at `start`.\n",
      "  return get_prediction_index(\n"
     ]
    }
   ],
   "source": [
    "# Make arma forecast of next 10 differences\n",
    "arma_diff_forecast = arma_results.get_forecast(steps=10).predicted_mean\n",
    "\n",
    "# Integrate the difference forecast\n",
    "arma_int_forecast = np.cumsum(arma_diff_forecast)\n",
    "\n",
    "# Make absolute value forecast\n",
    "arma_value_forecast = arma_int_forecast + amazon.iloc[-1,0]\n",
    "\n",
    "# Print forecast\n",
    "print(arma_value_forecast)"
   ]
  },
  {
   "attachments": {},
   "cell_type": "markdown",
   "metadata": {},
   "source": [
    "### `11: Fitting an ARIMA model`\n",
    "\n",
    "In this exercise you'll learn how to be lazy in time series modeling. Instead of taking the difference, modeling the difference and then integrating, you're just going to lets statsmodels do the hard work for you.\n",
    "\n",
    "You'll repeat the same exercise that you did before, of forecasting the absolute values of the Amazon stocks dataset, but this time with an ARIMA model.\n",
    "\n",
    "A subset of the stocks dataset is available in your environment as amazon and so is the ARIMA model class.\n",
    "\n",
    "- Create an ARIMA(2,1,2) model, using the `ARIMA` class, passing it the Amazon stocks data `amazon`.\n",
    "- Fit the model.\n",
    "- Make a forecast of mean values of the Amazon data for the next 10 time steps. Assign the result to `arima_value_forecast`."
   ]
  },
  {
   "cell_type": "code",
   "execution_count": 89,
   "metadata": {},
   "outputs": [
    {
     "name": "stderr",
     "output_type": "stream",
     "text": [
      "c:\\Users\\ai_mo\\AppData\\Local\\Programs\\Python\\Python39\\lib\\site-packages\\statsmodels\\tsa\\base\\tsa_model.py:471: ValueWarning: A date index has been provided, but it has no associated frequency information and so will be ignored when e.g. forecasting.\n",
      "  self._init_dates(dates, freq)\n",
      "c:\\Users\\ai_mo\\AppData\\Local\\Programs\\Python\\Python39\\lib\\site-packages\\statsmodels\\tsa\\base\\tsa_model.py:471: ValueWarning: A date index has been provided, but it has no associated frequency information and so will be ignored when e.g. forecasting.\n",
      "  self._init_dates(dates, freq)\n",
      "c:\\Users\\ai_mo\\AppData\\Local\\Programs\\Python\\Python39\\lib\\site-packages\\statsmodels\\tsa\\base\\tsa_model.py:471: ValueWarning: A date index has been provided, but it has no associated frequency information and so will be ignored when e.g. forecasting.\n",
      "  self._init_dates(dates, freq)\n"
     ]
    },
    {
     "name": "stdout",
     "output_type": "stream",
     "text": [
      "1259    1593.639455\n",
      "1260    1601.906411\n",
      "1261    1605.418925\n",
      "1262    1600.976727\n",
      "1263    1592.696654\n",
      "1264    1588.197619\n",
      "1265    1591.590210\n",
      "1266    1599.721277\n",
      "1267    1605.104189\n",
      "1268    1602.811957\n",
      "Name: predicted_mean, dtype: float64\n"
     ]
    },
    {
     "name": "stderr",
     "output_type": "stream",
     "text": [
      "c:\\Users\\ai_mo\\AppData\\Local\\Programs\\Python\\Python39\\lib\\site-packages\\statsmodels\\tsa\\base\\tsa_model.py:834: ValueWarning: No supported index is available. Prediction results will be given with an integer index beginning at `start`.\n",
      "  return get_prediction_index(\n"
     ]
    }
   ],
   "source": [
    "# Create ARIMA(2,1,2) model\n",
    "arima = ARIMA(amazon, order=(2,1,2))\n",
    "\n",
    "# Fit ARIMA model\n",
    "arima_results = arima.fit()\n",
    "\n",
    "# Make ARIMA forecast of next 10 values\n",
    "arima_value_forecast = arima_results.get_forecast(steps=10).predicted_mean\n",
    "\n",
    "# Print forecast\n",
    "print(arima_value_forecast)"
   ]
  },
  {
   "attachments": {},
   "cell_type": "markdown",
   "metadata": {},
   "source": [
    "Superb! You just made the same forecast you made before, but this time with an ARIMA model. Your two forecasts give the same results, but the ARIMA forecast was a lot easier to code!"
   ]
  },
  {
   "attachments": {},
   "cell_type": "markdown",
   "metadata": {},
   "source": [
    "### `12: Choosing ARIMA model`\n",
    "You are trying to figure out which ARIMA model is the best fit for a dataset after trying different degrees of differencing and applying the Augmented Dicky-Fuller test on the differenced data. The test statistics were these:\n",
    "\n",
    "\n",
    "|Order of difference:|ADF statistic|p-value|\n",
    "|--------:|---------:|----------:|\n",
    "|       0 |    2.198 |     0.999 |\n",
    "|       1 |   -2.598 |     0.093 |\n",
    "|       2 |  -14.448 |     0.000 |\n",
    "|       3 |  -17.147 |     0.000 |\n",
    "\n",
    "\n",
    "\n",
    "Which kind of ARIMA model should you fit to this time series data?\n",
    "\n",
    "- ARIMA(p,0,q)\n",
    "- ARIMA(p,1,q) \n",
    "- ARIMA(p,2,q) ✅\n",
    "- ARIMA(p,3,q) \n",
    "\n",
    "Great answer! You want to make sure our data is stationary but don't want to over difference it either. This is the right call!\n"
   ]
  }
 ],
 "metadata": {
  "kernelspec": {
   "display_name": "Python 3",
   "language": "python",
   "name": "python3"
  },
  "language_info": {
   "codemirror_mode": {
    "name": "ipython",
    "version": 3
   },
   "file_extension": ".py",
   "mimetype": "text/x-python",
   "name": "python",
   "nbconvert_exporter": "python",
   "pygments_lexer": "ipython3",
   "version": "3.9.0"
  },
  "orig_nbformat": 4
 },
 "nbformat": 4,
 "nbformat_minor": 2
}
